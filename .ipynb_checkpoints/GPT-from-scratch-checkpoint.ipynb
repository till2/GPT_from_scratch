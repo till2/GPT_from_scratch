{
 "cells": [
  {
   "cell_type": "code",
   "execution_count": 1,
   "id": "81c6f554",
   "metadata": {
    "scrolled": true
   },
   "outputs": [
    {
     "name": "stdout",
     "output_type": "stream",
     "text": [
      "Hello worldo!\n"
     ]
    }
   ],
   "source": [
    "print(\"Hello worldo!\")"
   ]
  },
  {
   "cell_type": "code",
   "execution_count": 2,
   "id": "9c9dd81f",
   "metadata": {},
   "outputs": [],
   "source": [
    "# TODO:\n",
    "# device = \"cuda\" if torch.cuda.is_available() else \"cpu\"\n",
    "# model and batch: .to(device)"
   ]
  },
  {
   "cell_type": "code",
   "execution_count": 3,
   "id": "6fa94449",
   "metadata": {},
   "outputs": [
    {
     "data": {
      "text/plain": [
       "<torch._C.Generator at 0x7f38f6bc7210>"
      ]
     },
     "execution_count": 3,
     "metadata": {},
     "output_type": "execute_result"
    }
   ],
   "source": [
    "from __future__ import annotations\n",
    "import typing\n",
    "\n",
    "import numpy as np\n",
    "import matplotlib.pyplot as plt\n",
    "\n",
    "import torch\n",
    "import torch.nn as nn\n",
    "import torch.nn.functional as F\n",
    "\n",
    "torch.manual_seed(3654)"
   ]
  },
  {
   "cell_type": "code",
   "execution_count": 4,
   "id": "f7058808",
   "metadata": {},
   "outputs": [],
   "source": [
    "def count_trainable_parameters(model):\n",
    "    return sum(p.numel() for p in model.parameters() if p.requires_grad)"
   ]
  },
  {
   "cell_type": "markdown",
   "id": "dd8e1971",
   "metadata": {},
   "source": [
    "### Get text data"
   ]
  },
  {
   "cell_type": "code",
   "execution_count": 5,
   "id": "6e97ce57",
   "metadata": {},
   "outputs": [],
   "source": [
    "with open(\"text_corpus.txt\", encoding=\"utf-8\") as f:\n",
    "    text = f.read()[:10_000]"
   ]
  },
  {
   "cell_type": "code",
   "execution_count": 6,
   "id": "b6ff1d38",
   "metadata": {},
   "outputs": [
    {
     "name": "stdout",
     "output_type": "stream",
     "text": [
      "['\\n', ' ', '%', \"'\", ',', '.', '0', '1', '2', '3', '5', '6', '7', '8', '9', '?', 'A', 'B', 'C', 'D', 'E', 'F', 'G', 'H', 'I', 'J', 'L', 'M', 'N', 'O', 'P', 'R', 'S', 'T', 'W', 'Y', 'a', 'b', 'c', 'd', 'e', 'f', 'g', 'h', 'i', 'j', 'k', 'l', 'm', 'n', 'o', 'p', 'q', 'r', 's', 't', 'u', 'v', 'w', 'x', 'y', 'z']\n"
     ]
    }
   ],
   "source": [
    "vocab = sorted(set(text))\n",
    "print(vocab)"
   ]
  },
  {
   "cell_type": "code",
   "execution_count": 7,
   "id": "6ea75fec",
   "metadata": {},
   "outputs": [
    {
     "data": {
      "text/plain": [
       "62"
      ]
     },
     "execution_count": 7,
     "metadata": {},
     "output_type": "execute_result"
    }
   ],
   "source": [
    "vocab_size = len(vocab)\n",
    "vocab_size"
   ]
  },
  {
   "cell_type": "markdown",
   "id": "09f90281",
   "metadata": {},
   "source": [
    "### Encode the characters to integers"
   ]
  },
  {
   "cell_type": "code",
   "execution_count": 8,
   "id": "f56c27f8",
   "metadata": {},
   "outputs": [],
   "source": [
    "# Create encoder and decoder dicts\n",
    "\n",
    "char_int_mapping = dict()\n",
    "int_char_mapping = dict()\n",
    "\n",
    "for i, c in enumerate(sorted(set(text))):\n",
    "    char_int_mapping[c] = i\n",
    "    int_char_mapping[i] = c"
   ]
  },
  {
   "cell_type": "code",
   "execution_count": 9,
   "id": "4f799812",
   "metadata": {},
   "outputs": [
    {
     "name": "stdout",
     "output_type": "stream",
     "text": [
      "42\n",
      "g\n"
     ]
    }
   ],
   "source": [
    "# examples\n",
    "print(char_int_mapping[\"g\"])\n",
    "print(int_char_mapping[42])"
   ]
  },
  {
   "cell_type": "code",
   "execution_count": 10,
   "id": "56852e0a",
   "metadata": {},
   "outputs": [],
   "source": [
    "def encode(string: str) -> List[int]:\n",
    "    int_list = [char_int_mapping[char] for char in string]\n",
    "    return int_list\n",
    "\n",
    "def decode(int_list: List[int]) -> str:\n",
    "    string = [int_char_mapping[num] for num in int_list]\n",
    "    return \"\".join(string)"
   ]
  },
  {
   "cell_type": "code",
   "execution_count": 11,
   "id": "a77fe53a",
   "metadata": {},
   "outputs": [
    {
     "name": "stdout",
     "output_type": "stream",
     "text": [
      "[43, 40, 47, 47, 50, 50, 50]\n",
      "hellooo\n"
     ]
    }
   ],
   "source": [
    "# examples\n",
    "print(encode(\"hellooo\"))\n",
    "print(decode([43, 40, 47, 47, 50, 50, 50]))"
   ]
  },
  {
   "cell_type": "code",
   "execution_count": 12,
   "id": "931bc151",
   "metadata": {},
   "outputs": [
    {
     "data": {
      "text/plain": [
       "[43, 40, 47, 47, 50, 1, 58, 50, 53, 47, 39]"
      ]
     },
     "execution_count": 12,
     "metadata": {},
     "output_type": "execute_result"
    }
   ],
   "source": [
    "encode(\"hello world\")"
   ]
  },
  {
   "cell_type": "markdown",
   "id": "278b0040",
   "metadata": {},
   "source": [
    "### Make it a tensor"
   ]
  },
  {
   "cell_type": "code",
   "execution_count": 13,
   "id": "1d7650c4",
   "metadata": {},
   "outputs": [
    {
     "data": {
      "text/plain": [
       "torch.Size([10000])"
      ]
     },
     "execution_count": 13,
     "metadata": {},
     "output_type": "execute_result"
    }
   ],
   "source": [
    "data = torch.tensor(encode(text), dtype=torch.long)\n",
    "data.shape"
   ]
  },
  {
   "cell_type": "markdown",
   "id": "222f0765",
   "metadata": {},
   "source": [
    "### Train/Test split"
   ]
  },
  {
   "cell_type": "code",
   "execution_count": 14,
   "id": "49865796",
   "metadata": {},
   "outputs": [
    {
     "data": {
      "text/plain": [
       "10000"
      ]
     },
     "execution_count": 14,
     "metadata": {},
     "output_type": "execute_result"
    }
   ],
   "source": [
    "len(data)"
   ]
  },
  {
   "cell_type": "code",
   "execution_count": 15,
   "id": "8ffb6c69",
   "metadata": {},
   "outputs": [
    {
     "name": "stdout",
     "output_type": "stream",
     "text": [
      "9000 1000\n"
     ]
    }
   ],
   "source": [
    "N = int(0.9*len(data))\n",
    "train_data = data[:N]\n",
    "test_data = data[N:]\n",
    "\n",
    "print(len(train_data), len(test_data))"
   ]
  },
  {
   "cell_type": "markdown",
   "id": "b72f353e",
   "metadata": {},
   "source": [
    "### Create minibatches"
   ]
  },
  {
   "cell_type": "code",
   "execution_count": 16,
   "id": "ff15c9fe",
   "metadata": {},
   "outputs": [],
   "source": [
    "block_size = 8 # block_size is the maximum context length (input textblock size)\n",
    "batch_size = 4"
   ]
  },
  {
   "cell_type": "code",
   "execution_count": 17,
   "id": "6a74fc6f",
   "metadata": {},
   "outputs": [
    {
     "data": {
      "text/plain": [
       "tensor([ 1, 53, 40, 48, 40, 48, 37, 40])"
      ]
     },
     "execution_count": 17,
     "metadata": {},
     "output_type": "execute_result"
    }
   ],
   "source": [
    "train_data[:block_size]"
   ]
  },
  {
   "cell_type": "code",
   "execution_count": 18,
   "id": "032acc34",
   "metadata": {},
   "outputs": [],
   "source": [
    "def get_batch(split: torch.tensor):\n",
    "    offsets = np.random.randint(0, len(split) - batch_size, size=batch_size)\n",
    "    x = torch.stack([split[i:i+block_size] for i in offsets])\n",
    "    y = torch.stack([split[i+1:i+block_size+1] for i in offsets])\n",
    "    return x, y"
   ]
  },
  {
   "cell_type": "code",
   "execution_count": 19,
   "id": "16b37b55",
   "metadata": {},
   "outputs": [
    {
     "data": {
      "text/plain": [
       "tensor([[39,  0,  1, 53, 40, 54, 51, 40],\n",
       "        [43, 44, 51,  4,  1, 60, 50, 56],\n",
       "        [57, 40,  5,  1, 24, 55,  3, 54],\n",
       "        [54, 56, 44, 55,  1, 50, 41,  1]])"
      ]
     },
     "execution_count": 19,
     "metadata": {},
     "output_type": "execute_result"
    }
   ],
   "source": [
    "xb, yb = get_batch(train_data)\n",
    "xb"
   ]
  },
  {
   "cell_type": "code",
   "execution_count": 20,
   "id": "f4dc59eb",
   "metadata": {},
   "outputs": [
    {
     "data": {
      "text/plain": [
       "tensor([[ 0,  1, 53, 40, 54, 51, 40, 38],\n",
       "        [44, 51,  4,  1, 60, 50, 56,  1],\n",
       "        [40,  5,  1, 24, 55,  3, 54,  1],\n",
       "        [56, 44, 55,  1, 50, 41,  1, 43]])"
      ]
     },
     "execution_count": 20,
     "metadata": {},
     "output_type": "execute_result"
    }
   ],
   "source": [
    "yb"
   ]
  },
  {
   "cell_type": "code",
   "execution_count": 22,
   "id": "1859006f",
   "metadata": {},
   "outputs": [
    {
     "data": {
      "text/plain": [
       "'suit of '"
      ]
     },
     "execution_count": 22,
     "metadata": {},
     "output_type": "execute_result"
    }
   ],
   "source": [
    "decode(xb[3].tolist())"
   ]
  },
  {
   "cell_type": "code",
   "execution_count": 25,
   "id": "6caf66d0",
   "metadata": {},
   "outputs": [
    {
     "name": "stdout",
     "output_type": "stream",
     "text": [
      "----- BATCH 0 -----\n",
      "context: d -> target: \n",
      "\n",
      "context: d\n",
      " -> target:  \n",
      "context: d\n",
      "  -> target: r\n",
      "context: d\n",
      " r -> target: e\n",
      "context: d\n",
      " re -> target: s\n",
      "context: d\n",
      " res -> target: p\n",
      "context: d\n",
      " resp -> target: e\n",
      "context: d\n",
      " respe -> target: c\n",
      "\n",
      "context: [39] -> target: 0\n",
      "context: [39, 0] -> target: 1\n",
      "context: [39, 0, 1] -> target: 53\n",
      "context: [39, 0, 1, 53] -> target: 40\n",
      "context: [39, 0, 1, 53, 40] -> target: 54\n",
      "context: [39, 0, 1, 53, 40, 54] -> target: 51\n",
      "context: [39, 0, 1, 53, 40, 54, 51] -> target: 40\n",
      "context: [39, 0, 1, 53, 40, 54, 51, 40] -> target: 38\n",
      "\n",
      "----- BATCH 1 -----\n",
      "context: h -> target: i\n",
      "context: hi -> target: p\n",
      "context: hip -> target: ,\n",
      "context: hip, -> target:  \n",
      "context: hip,  -> target: y\n",
      "context: hip, y -> target: o\n",
      "context: hip, yo -> target: u\n",
      "context: hip, you -> target:  \n",
      "\n",
      "context: [43] -> target: 44\n",
      "context: [43, 44] -> target: 51\n",
      "context: [43, 44, 51] -> target: 4\n",
      "context: [43, 44, 51, 4] -> target: 1\n",
      "context: [43, 44, 51, 4, 1] -> target: 60\n",
      "context: [43, 44, 51, 4, 1, 60] -> target: 50\n",
      "context: [43, 44, 51, 4, 1, 60, 50] -> target: 56\n",
      "context: [43, 44, 51, 4, 1, 60, 50, 56] -> target: 1\n",
      "\n",
      "----- BATCH 2 -----\n",
      "context: v -> target: e\n",
      "context: ve -> target: .\n",
      "context: ve. -> target:  \n",
      "context: ve.  -> target: I\n",
      "context: ve. I -> target: t\n",
      "context: ve. It -> target: '\n",
      "context: ve. It' -> target: s\n",
      "context: ve. It's -> target:  \n",
      "\n",
      "context: [57] -> target: 40\n",
      "context: [57, 40] -> target: 5\n",
      "context: [57, 40, 5] -> target: 1\n",
      "context: [57, 40, 5, 1] -> target: 24\n",
      "context: [57, 40, 5, 1, 24] -> target: 55\n",
      "context: [57, 40, 5, 1, 24, 55] -> target: 3\n",
      "context: [57, 40, 5, 1, 24, 55, 3] -> target: 54\n",
      "context: [57, 40, 5, 1, 24, 55, 3, 54] -> target: 1\n",
      "\n",
      "----- BATCH 3 -----\n",
      "context: s -> target: u\n",
      "context: su -> target: i\n",
      "context: sui -> target: t\n",
      "context: suit -> target:  \n",
      "context: suit  -> target: o\n",
      "context: suit o -> target: f\n",
      "context: suit of -> target:  \n",
      "context: suit of  -> target: h\n",
      "\n",
      "context: [54] -> target: 56\n",
      "context: [54, 56] -> target: 44\n",
      "context: [54, 56, 44] -> target: 55\n",
      "context: [54, 56, 44, 55] -> target: 1\n",
      "context: [54, 56, 44, 55, 1] -> target: 50\n",
      "context: [54, 56, 44, 55, 1, 50] -> target: 41\n",
      "context: [54, 56, 44, 55, 1, 50, 41] -> target: 1\n",
      "context: [54, 56, 44, 55, 1, 50, 41, 1] -> target: 43\n",
      "\n"
     ]
    }
   ],
   "source": [
    "for b in range(batch_size):\n",
    "    print(f\"----- BATCH {b} -----\")\n",
    "    \n",
    "    for t in range(block_size):\n",
    "        context = xb[b][:t+1]\n",
    "        target = yb[b][t]\n",
    "        print(f\"context: {decode(context.tolist())} -> target: {decode([int(target)])}\")\n",
    "    print()\n",
    "        \n",
    "    for t in range(block_size):\n",
    "        context = xb[b][:t+1]\n",
    "        target = yb[b][t]\n",
    "        print(f\"context: {context.tolist()} -> target: {int(target)}\")\n",
    "    print()"
   ]
  },
  {
   "cell_type": "markdown",
   "id": "343e228c",
   "metadata": {},
   "source": [
    "### Create a simple model"
   ]
  },
  {
   "cell_type": "code",
   "execution_count": 26,
   "id": "83559181",
   "metadata": {},
   "outputs": [
    {
     "data": {
      "text/plain": [
       "BigramLanguageModel(\n",
       "  (token_embedding_table): Embedding(62, 62)\n",
       ")"
      ]
     },
     "execution_count": 26,
     "metadata": {},
     "output_type": "execute_result"
    }
   ],
   "source": [
    "class BigramLanguageModel(nn.Module):\n",
    "    \n",
    "    def __init__(self, vocab_size):\n",
    "        super().__init__()\n",
    "        self.token_embedding_table = nn.Embedding(vocab_size, vocab_size)\n",
    "    \n",
    "    def forward(self, context, targets):\n",
    "        logits = self.token_embedding_table(context) # (Batch, Time, Channels) ==> [4, 8, 62]\n",
    "\n",
    "        B, T, C = logits.shape\n",
    "        logits = logits.view(B*T,C) # [32,64]\n",
    "        targets = targets.view(B*T) # [32]\n",
    "        loss = F.cross_entropy(logits, targets)\n",
    "        \n",
    "        return logits, loss\n",
    "\n",
    "    def generate(self, context, max_new_tokens):\n",
    "        \n",
    "        # context: (Batch, Time) ==> [4, 8]\n",
    "        # -> extend context in Time dimension for max_new_tokens\n",
    "        \n",
    "        for _ in range(max_new_tokens):\n",
    "            \n",
    "            # get prediction\n",
    "            logits, loss = self(xb, yb)\n",
    "            \n",
    "            # get logits for the last character \n",
    "            # (because we only need the last char to predict with our bigram model)\n",
    "            logits = logits.view(batch_size,-1,vocab_size) # (B,T,C)\n",
    "            logits = logits[:, -1, :] # (B,C) for only the last character\n",
    "            \n",
    "            probs = F.softmax(logits, dim=-1) # (B,C)\n",
    "            next_token = torch.multinomial(probs, num_samples=1) # (B,1)\n",
    "            \n",
    "            # append next token to the sequence\n",
    "            context = torch.cat((context, next_token), dim=1) # (B,T+1)\n",
    "        \n",
    "        return context\n",
    "    \n",
    "    def generate_to_text(self, context, max_new_tokens):\n",
    "        context = self.generate(context, max_new_tokens)\n",
    "        return decode(context[0].tolist())\n",
    "\n",
    "model = BigramLanguageModel(vocab_size)\n",
    "model"
   ]
  },
  {
   "cell_type": "code",
   "execution_count": 27,
   "id": "df344b04",
   "metadata": {},
   "outputs": [
    {
     "data": {
      "text/plain": [
       "3844"
      ]
     },
     "execution_count": 27,
     "metadata": {},
     "output_type": "execute_result"
    }
   ],
   "source": [
    "count_trainable_parameters(model)"
   ]
  },
  {
   "cell_type": "markdown",
   "id": "818eb222",
   "metadata": {},
   "source": [
    "### Train the simple model"
   ]
  },
  {
   "cell_type": "code",
   "execution_count": 28,
   "id": "84ca8cb5",
   "metadata": {},
   "outputs": [],
   "source": [
    "optimizer = torch.optim.Adam(model.parameters(), lr=1e-3)"
   ]
  },
  {
   "cell_type": "code",
   "execution_count": 29,
   "id": "609f9246",
   "metadata": {},
   "outputs": [],
   "source": [
    "batch_size = 32\n",
    "losses = []\n",
    "\n",
    "for step in range(10_000):\n",
    "    \n",
    "    # get a batch\n",
    "    xb, yb = get_batch(train_data)\n",
    "    \n",
    "    # predict and get loss\n",
    "    logits, loss = model(xb, yb)\n",
    "    \n",
    "    optimizer.zero_grad(set_to_none=True)\n",
    "    loss.backward()\n",
    "    optimizer.step()\n",
    "    \n",
    "    losses.append(loss.item())"
   ]
  },
  {
   "cell_type": "code",
   "execution_count": 30,
   "id": "8ca699e4",
   "metadata": {},
   "outputs": [
    {
     "data": {
      "text/plain": [
       "[<matplotlib.lines.Line2D at 0x7f3885545960>]"
      ]
     },
     "execution_count": 30,
     "metadata": {},
     "output_type": "execute_result"
    },
    {
     "data": {
      "image/png": "[encoded data removed]",
      "text/plain": [
       "<Figure size 640x480 with 1 Axes>"
      ]
     },
     "metadata": {},
     "output_type": "display_data"
    }
   ],
   "source": [
    "plt.plot(losses)"
   ]
  },
  {
   "cell_type": "code",
   "execution_count": 31,
   "id": "fa7fb038",
   "metadata": {},
   "outputs": [
    {
     "data": {
      "text/plain": [
       "\"\\nhh. hoh   hho hoi \\nieohhe he hohil ch hhohrohhthirhha    ohiat  ihhei ui ohitcelrrhhu.hhiuhohh'eh ouu  eoi te  ehh i ihhhrhr o hhhhr h'eui?hhle?h i hhrihy iouih?o'h.hh o e O  hh aho hhhh 'whhri oorr?e\""
      ]
     },
     "execution_count": 31,
     "metadata": {},
     "output_type": "execute_result"
    }
   ],
   "source": [
    "# inference\n",
    "zero_context = torch.zeros((batch_size,1))\n",
    "model.generate_to_text(zero_context, max_new_tokens=200)"
   ]
  },
  {
   "cell_type": "code",
   "execution_count": null,
   "id": "6d4c9a5f",
   "metadata": {},
   "outputs": [],
   "source": []
  },
  {
   "cell_type": "code",
   "execution_count": null,
   "id": "1cc192a6",
   "metadata": {},
   "outputs": [],
   "source": []
  },
  {
   "cell_type": "code",
   "execution_count": null,
   "id": "ec55545a",
   "metadata": {},
   "outputs": [],
   "source": []
  },
  {
   "cell_type": "code",
   "execution_count": null,
   "id": "b8b2b1af",
   "metadata": {},
   "outputs": [],
   "source": []
  },
  {
   "cell_type": "code",
   "execution_count": null,
   "id": "089e4277",
   "metadata": {},
   "outputs": [],
   "source": []
  },
  {
   "cell_type": "code",
   "execution_count": null,
   "id": "21f678dd",
   "metadata": {},
   "outputs": [],
   "source": []
  },
  {
   "cell_type": "markdown",
   "id": "d734efb2",
   "metadata": {},
   "source": [
    "### Attention"
   ]
  },
  {
   "cell_type": "code",
   "execution_count": 32,
   "id": "25a1db62",
   "metadata": {},
   "outputs": [
    {
     "data": {
      "text/plain": [
       "(tensor([[0.5499],\n",
       "         [0.5899],\n",
       "         [0.8726],\n",
       "         [0.8996],\n",
       "         [0.7301]]),\n",
       " tensor([[0.4520],\n",
       "         [0.8163],\n",
       "         [0.5874],\n",
       "         [0.7089],\n",
       "         [0.1228]]),\n",
       " tensor([[0.8152],\n",
       "         [0.7577],\n",
       "         [0.0832],\n",
       "         [0.2580],\n",
       "         [0.2888]]))"
      ]
     },
     "execution_count": 32,
     "metadata": {},
     "output_type": "execute_result"
    }
   ],
   "source": [
    "Q = torch.rand(5,1)\n",
    "K = torch.rand(5,1)\n",
    "V = torch.rand(5,1)\n",
    "Q,K,V"
   ]
  },
  {
   "cell_type": "code",
   "execution_count": 33,
   "id": "313ff056",
   "metadata": {},
   "outputs": [],
   "source": [
    "def attention(Q,K,V):\n",
    "    \"\"\" \n",
    "    Applies scaled dot-product attention\n",
    "    between vectors of queries Q, keys K and values V. \n",
    "    \"\"\"\n",
    "    d_k = torch.tensor(Q.shape[0])\n",
    "    W =  F.softmax((Q @ K.T) / torch.sqrt(d_k), dim=1)\n",
    "    return W @ V"
   ]
  },
  {
   "cell_type": "code",
   "execution_count": 34,
   "id": "fd85a01f",
   "metadata": {},
   "outputs": [
    {
     "data": {
      "text/plain": [
       "tensor([[0.4440],\n",
       "        [0.4442],\n",
       "        [0.4460],\n",
       "        [0.4461],\n",
       "        [0.4451]])"
      ]
     },
     "execution_count": 34,
     "metadata": {},
     "output_type": "execute_result"
    }
   ],
   "source": [
    "attention(Q,K,V)"
   ]
  },
  {
   "cell_type": "markdown",
   "id": "bb832357",
   "metadata": {},
   "source": [
    "### Multi-Head Attention"
   ]
  },
  {
   "cell_type": "code",
   "execution_count": 35,
   "id": "cb2974bf",
   "metadata": {},
   "outputs": [],
   "source": [
    "def multi_head_attention(Q,K,V):\n",
    "    d_k = torch.tensor(Q.shape[0])\n",
    "    d_model = 8 # project in to this space\n",
    "    N_heads = 2\n",
    "    \n",
    "    # linear layers\n",
    "    projections = {\n",
    "        x: {\n",
    "            h: nn.Linear(d_k, d_model, bias=False) for h in range(N_heads)\n",
    "        } for x in [\"Q\", \"K\", \"V\"]\n",
    "    }\n",
    "    \n",
    "    # layer to combine the concatenated attention-block output vectors\n",
    "    top_layer = nn.Linear(N_heads * d_model, d_k, bias=False)\n",
    "    \n",
    "    # forward pass\n",
    "    result = torch.zeros(N_heads, d_model, 1)\n",
    "\n",
    "    for h in range(N_heads):\n",
    "        result[h] = attention(\n",
    "            projections[\"Q\"][h](Q.T).T,\n",
    "            projections[\"K\"][h](K.T).T,\n",
    "            projections[\"V\"][h](V.T).T\n",
    "        )\n",
    "    \n",
    "    concat_attn_out = result.view(1, N_heads * d_model)\n",
    "    return top_layer(concat_attn_out).T"
   ]
  },
  {
   "cell_type": "code",
   "execution_count": 36,
   "id": "379ea9c2",
   "metadata": {},
   "outputs": [
    {
     "data": {
      "text/plain": [
       "tensor([[ 0.0147],\n",
       "        [ 0.0333],\n",
       "        [-0.0315],\n",
       "        [-0.0182],\n",
       "        [-0.0582]], grad_fn=<PermuteBackward0>)"
      ]
     },
     "execution_count": 36,
     "metadata": {},
     "output_type": "execute_result"
    }
   ],
   "source": [
    "multi_head_attention(Q,K,V)"
   ]
  },
  {
   "cell_type": "code",
   "execution_count": 37,
   "id": "368426fb",
   "metadata": {},
   "outputs": [
    {
     "data": {
      "text/plain": [
       "{'Q': {0: Linear(in_features=5, out_features=8, bias=False),\n",
       "  1: Linear(in_features=5, out_features=8, bias=False)},\n",
       " 'K': {0: Linear(in_features=5, out_features=8, bias=False),\n",
       "  1: Linear(in_features=5, out_features=8, bias=False)},\n",
       " 'V': {0: Linear(in_features=5, out_features=8, bias=False),\n",
       "  1: Linear(in_features=5, out_features=8, bias=False)}}"
      ]
     },
     "execution_count": 37,
     "metadata": {},
     "output_type": "execute_result"
    }
   ],
   "source": [
    "d_k = torch.tensor(Q.shape[0])\n",
    "d_model = 8 # project in to this space\n",
    "N_heads = 2\n",
    "\n",
    "projections = {\n",
    "    x: {\n",
    "        h: nn.Linear(d_k, d_model, bias=False) for h in range(N_heads)\n",
    "    } for x in [\"Q\", \"K\", \"V\"]\n",
    "}\n",
    "\n",
    "projections"
   ]
  },
  {
   "cell_type": "code",
   "execution_count": 38,
   "id": "26fc6e80",
   "metadata": {},
   "outputs": [
    {
     "data": {
      "text/plain": [
       "tensor([[-0.1686],\n",
       "        [-0.4816],\n",
       "        [ 0.1033],\n",
       "        [-0.3457],\n",
       "        [-0.7313],\n",
       "        [-0.2949],\n",
       "        [ 0.2788],\n",
       "        [ 0.2492]], grad_fn=<PermuteBackward0>)"
      ]
     },
     "execution_count": 38,
     "metadata": {},
     "output_type": "execute_result"
    }
   ],
   "source": [
    "projections[\"Q\"][0](Q.T).T"
   ]
  },
  {
   "cell_type": "code",
   "execution_count": 39,
   "id": "d8b9466c",
   "metadata": {},
   "outputs": [
    {
     "data": {
      "text/plain": [
       "tensor([[0.4440],\n",
       "        [0.4442],\n",
       "        [0.4460],\n",
       "        [0.4461],\n",
       "        [0.4451]])"
      ]
     },
     "execution_count": 39,
     "metadata": {},
     "output_type": "execute_result"
    }
   ],
   "source": [
    "attention(Q,K,V)"
   ]
  },
  {
   "cell_type": "code",
   "execution_count": 40,
   "id": "31787776",
   "metadata": {},
   "outputs": [],
   "source": [
    "result = torch.zeros(N_heads, d_model, 1)\n",
    "\n",
    "for h in range(N_heads):\n",
    "    result[h] = attention(\n",
    "        projections[\"Q\"][h](Q.T).T,\n",
    "        projections[\"K\"][h](K.T).T,\n",
    "        projections[\"V\"][h](V.T).T\n",
    "    )"
   ]
  },
  {
   "cell_type": "code",
   "execution_count": 41,
   "id": "fa69c246",
   "metadata": {},
   "outputs": [
    {
     "data": {
      "text/plain": [
       "tensor([[[0.0284],\n",
       "         [0.0300],\n",
       "         [0.0270],\n",
       "         [0.0293],\n",
       "         [0.0313],\n",
       "         [0.0291],\n",
       "         [0.0261],\n",
       "         [0.0262]],\n",
       "\n",
       "        [[0.1080],\n",
       "         [0.1065],\n",
       "         [0.1060],\n",
       "         [0.1106],\n",
       "         [0.1073],\n",
       "         [0.1085],\n",
       "         [0.1066],\n",
       "         [0.1064]]], grad_fn=<CopySlices>)"
      ]
     },
     "execution_count": 41,
     "metadata": {},
     "output_type": "execute_result"
    }
   ],
   "source": [
    "result"
   ]
  },
  {
   "cell_type": "code",
   "execution_count": 42,
   "id": "29d0fff2",
   "metadata": {},
   "outputs": [
    {
     "data": {
      "text/plain": [
       "tensor([[0.0284, 0.0300, 0.0270, 0.0293, 0.0313, 0.0291, 0.0261, 0.0262, 0.1080,\n",
       "         0.1065, 0.1060, 0.1106, 0.1073, 0.1085, 0.1066, 0.1064]],\n",
       "       grad_fn=<ViewBackward0>)"
      ]
     },
     "execution_count": 42,
     "metadata": {},
     "output_type": "execute_result"
    }
   ],
   "source": [
    "concat_attn_out = result.view(1, N_heads * d_model)\n",
    "concat_attn_out"
   ]
  },
  {
   "cell_type": "code",
   "execution_count": null,
   "id": "37c902b4",
   "metadata": {},
   "outputs": [],
   "source": []
  },
  {
   "cell_type": "code",
   "execution_count": 43,
   "id": "84ecced4",
   "metadata": {},
   "outputs": [],
   "source": [
    "top_layer = nn.Linear(N_heads * d_model, d_k, bias=False)"
   ]
  },
  {
   "cell_type": "code",
   "execution_count": 44,
   "id": "9341c4c1",
   "metadata": {},
   "outputs": [
    {
     "data": {
      "text/plain": [
       "torch.Size([5, 1])"
      ]
     },
     "execution_count": 44,
     "metadata": {},
     "output_type": "execute_result"
    }
   ],
   "source": [
    "top_layer(concat_attn_out).T.shape"
   ]
  },
  {
   "cell_type": "code",
   "execution_count": null,
   "id": "9159b98d",
   "metadata": {},
   "outputs": [],
   "source": []
  },
  {
   "cell_type": "code",
   "execution_count": null,
   "id": "107eeb1e",
   "metadata": {},
   "outputs": [],
   "source": []
  },
  {
   "cell_type": "code",
   "execution_count": null,
   "id": "d13d5ff0",
   "metadata": {},
   "outputs": [],
   "source": []
  },
  {
   "cell_type": "code",
   "execution_count": null,
   "id": "66e7a7a8",
   "metadata": {},
   "outputs": [],
   "source": []
  },
  {
   "cell_type": "code",
   "execution_count": null,
   "id": "b04b6473",
   "metadata": {},
   "outputs": [],
   "source": []
  }
 ],
 "metadata": {
  "kernelspec": {
   "display_name": "Python 3 (ipykernel)",
   "language": "python",
   "name": "python3"
  },
  "language_info": {
   "codemirror_mode": {
    "name": "ipython",
    "version": 3
   },
   "file_extension": ".py",
   "mimetype": "text/x-python",
   "name": "python",
   "nbconvert_exporter": "python",
   "pygments_lexer": "ipython3",
   "version": "3.10.4"
  }
 },
 "nbformat": 4,
 "nbformat_minor": 5
}
