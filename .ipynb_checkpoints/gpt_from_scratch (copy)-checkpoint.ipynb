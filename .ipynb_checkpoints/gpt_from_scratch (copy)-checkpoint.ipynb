{
 "cells": [
  {
   "cell_type": "code",
   "execution_count": 1,
   "id": "6fa94449",
   "metadata": {},
   "outputs": [
    {
     "data": {
      "text/plain": [
       "<torch._C.Generator at 0x7f947b2db170>"
      ]
     },
     "execution_count": 1,
     "metadata": {},
     "output_type": "execute_result"
    }
   ],
   "source": [
    "from __future__ import annotations\n",
    "import typing\n",
    "\n",
    "import numpy as np\n",
    "import matplotlib.pyplot as plt\n",
    "\n",
    "import torch\n",
    "import torch.nn as nn\n",
    "import torch.nn.functional as F\n",
    "\n",
    "import os\n",
    "import copy\n",
    "import pickle\n",
    "import time\n",
    "from tqdm import tqdm\n",
    "\n",
    "torch.manual_seed(3654)"
   ]
  },
  {
   "cell_type": "code",
   "execution_count": 2,
   "id": "b20532c9",
   "metadata": {},
   "outputs": [
    {
     "data": {
      "text/plain": [
       "'cuda'"
      ]
     },
     "execution_count": 2,
     "metadata": {},
     "output_type": "execute_result"
    }
   ],
   "source": [
    "device = \"cuda\" if torch.cuda.is_available() else \"cpu\"\n",
    "device"
   ]
  },
  {
   "cell_type": "code",
   "execution_count": 3,
   "id": "0e1c6932",
   "metadata": {},
   "outputs": [],
   "source": [
    "def count_trainable_parameters(model):\n",
    "    return sum(p.numel() for p in model.parameters() if p.requires_grad)"
   ]
  },
  {
   "cell_type": "markdown",
   "id": "dd8e1971",
   "metadata": {},
   "source": [
    "### Get text data"
   ]
  },
  {
   "cell_type": "code",
   "execution_count": 4,
   "id": "6e97ce57",
   "metadata": {},
   "outputs": [
    {
     "name": "stdout",
     "output_type": "stream",
     "text": [
      "38739496\n"
     ]
    }
   ],
   "source": [
    "with open(\"data/text_corpus.txt\", encoding=\"utf-8\") as f:\n",
    "    text = f.read()\n",
    "\n",
    "print(len(text))"
   ]
  },
  {
   "cell_type": "code",
   "execution_count": 5,
   "id": "b6ff1d38",
   "metadata": {},
   "outputs": [
    {
     "name": "stdout",
     "output_type": "stream",
     "text": [
      "150\n",
      "['\\n', ' ', '!', '\"', '$', '%', '&', \"'\", '+', ',', '-', '.', '0', '1', '2', '3', '4', '5', '6', '7', '8', '9', ':', '>', '?', 'A', 'B', 'C', 'D', 'E', 'F', 'G', 'H', 'I', 'J', 'K', 'L', 'M', 'N', 'O', 'P', 'Q', 'R', 'S', 'T', 'U', 'V', 'W', 'X', 'Y', 'Z', '[', ']', 'a', 'b', 'c', 'd', 'e', 'f', 'g', 'h', 'i', 'j', 'k', 'l', 'm', 'n', 'o', 'p', 'q', 'r', 's', 't', 'u', 'v', 'w', 'x', 'y', 'z', '´', 'É', 'Ö', 'Ü', 'á', 'ã', 'å', 'ç', 'è', 'é', 'ê', 'í', 'ó', 'ô', 'ö', 'ø', 'ù', 'ü', 'ć', 'ł', 'ő', 'Б', 'В', 'Г', 'Д', 'К', 'Н', 'П', 'Р', 'С', 'Т', 'У', 'Я', 'а', 'б', 'в', 'г', 'д', 'е', 'ж', 'з', 'и', 'й', 'к', 'л', 'м', 'н', 'о', 'п', 'р', 'с', 'т', 'у', 'х', 'ц', 'ч', 'ш', 'щ', 'ъ', 'ы', 'ь', 'э', 'ю', 'я', 'ё', '–', '—', '…', '가', '들', '어']\n"
     ]
    }
   ],
   "source": [
    "char_vocab = sorted(set(text))\n",
    "char_vocab_size = len(char_vocab)\n",
    "print(char_vocab_size)\n",
    "print(char_vocab)"
   ]
  },
  {
   "cell_type": "markdown",
   "id": "09f90281",
   "metadata": {},
   "source": [
    "### Map characters to integers"
   ]
  },
  {
   "cell_type": "code",
   "execution_count": 6,
   "id": "f56c27f8",
   "metadata": {},
   "outputs": [],
   "source": [
    "# Create encoder and decoder dicts\n",
    "\n",
    "char_int_mapping = dict()\n",
    "\n",
    "for i, c in enumerate(sorted(set(text))):\n",
    "    char_int_mapping[c] = i"
   ]
  },
  {
   "cell_type": "markdown",
   "id": "49113d03",
   "metadata": {},
   "source": [
    "### Byte Pair Encoding"
   ]
  },
  {
   "cell_type": "code",
   "execution_count": 7,
   "id": "ffd8293a",
   "metadata": {},
   "outputs": [],
   "source": [
    "# create the encoder dict\n",
    "int_char_mapping = dict()\n",
    "\n",
    "for key, item in char_int_mapping.items():\n",
    "    int_char_mapping[item] = key"
   ]
  },
  {
   "cell_type": "code",
   "execution_count": 8,
   "id": "55bfcc9d",
   "metadata": {},
   "outputs": [],
   "source": [
    "with open(\"data/text_corpus.txt\", encoding=\"utf-8\") as f:\n",
    "    block_size = 10_000\n",
    "    text = f.read()\n",
    "    offset = np.random.randint(0, len(text) - block_size)\n",
    "    text = text[offset:offset+block_size]"
   ]
  },
  {
   "cell_type": "code",
   "execution_count": 9,
   "id": "c0bb1d60",
   "metadata": {},
   "outputs": [],
   "source": [
    "def bpe_tokenize_text(text):\n",
    "    tokenized_text = []\n",
    "    max_pair_len = max([len(k) for k in char_int_mapping.keys()])\n",
    "    \n",
    "    text_cpy = copy.copy(text)\n",
    "    \n",
    "    while text_cpy:\n",
    "        # try to tokenize the different byte combinations from longest to shortest\n",
    "        for i in range(5, 0, -1):\n",
    "            byte = text_cpy[:i]\n",
    "            byte_len = len(byte)\n",
    "            #print(byte_len)\n",
    "            \n",
    "            if byte in char_int_mapping.keys():\n",
    "                #print(\"match:\", byte, \"with len\", byte_len)\n",
    "                \n",
    "                # append the tokenized byte to the list\n",
    "                tokenized_text.append(\n",
    "                    char_int_mapping[byte]\n",
    "                )\n",
    "                \n",
    "                # remove encoded byte from the text\n",
    "                text_cpy = text_cpy[byte_len:]\n",
    "                #print(text_cpy)\n",
    "                #print(tokenized_text)\n",
    "                \n",
    "                break\n",
    "    return tokenized_text"
   ]
  },
  {
   "cell_type": "code",
   "execution_count": 10,
   "id": "1d975a14",
   "metadata": {},
   "outputs": [],
   "source": [
    "\"\"\" Initialize the Mapping with the N most common Byte Pairs \"\"\"\n",
    "\n",
    "def add_byte_pair_to_mapping():\n",
    "    \n",
    "    # get new text sample block\n",
    "    with open(\"data/text_corpus.txt\", encoding=\"utf-8\") as f:\n",
    "        block_size = 500\n",
    "        text = f.read()\n",
    "        offset = np.random.randint(0, len(text) - block_size)\n",
    "        text = text[offset:offset+block_size]\n",
    "    \n",
    "    # tokenize the text sample\n",
    "    tokenized_text = bpe_tokenize_text(text)\n",
    "\n",
    "    max_occurences = 0\n",
    "    max_pair = None\n",
    "\n",
    "    for byte1 in list(char_int_mapping.keys())[::-1]:\n",
    "        for byte2 in list(char_int_mapping.keys())[::-1]:\n",
    "            \n",
    "            if byte1+byte2 in char_int_mapping.keys():\n",
    "                break\n",
    "              \n",
    "            # encode the bytes\n",
    "            sublist = bpe_tokenize_text(byte1+byte2)\n",
    "            \n",
    "            # get the occurence count of the byte pair (sublist of tokens)\n",
    "            occurence_count = 0\n",
    "            for i in range(len(tokenized_text)):\n",
    "                if tokenized_text[i:i+len(sublist)] == sublist:\n",
    "                    occurence_count += 1\n",
    "            \n",
    "            if occurence_count > max_occurences:\n",
    "                max_occurences = occurence_count\n",
    "                max_pair = byte1 + byte2\n",
    "    \n",
    "    # add the max pair to the mapping as a byte pair\n",
    "    if max_pair is not None:\n",
    "        char_int_mapping[max_pair] = max(char_int_mapping.values()) + 1\n",
    "        return True\n",
    "    else:\n",
    "        return False"
   ]
  },
  {
   "cell_type": "code",
   "execution_count": 11,
   "id": "cf69762f",
   "metadata": {},
   "outputs": [],
   "source": [
    "create_bpe = False\n",
    "\n",
    "if create_bpe:\n",
    "    \n",
    "    max_mapping_size = 1_000\n",
    "    for i in range(max_mapping_size - len(char_int_mapping)):\n",
    "        added_pair = add_byte_pair_to_mapping()\n",
    "        if added_pair:\n",
    "            print(i, list(char_int_mapping.keys())[-1])\n",
    "        else:\n",
    "            print(\"---\")"
   ]
  },
  {
   "cell_type": "code",
   "execution_count": 12,
   "id": "ee82473a",
   "metadata": {},
   "outputs": [],
   "source": [
    "save_bpe_dict = False\n",
    "\n",
    "if save_bpe_dict:\n",
    "    with open('bpe_mapping.pkl', 'wb') as f:\n",
    "        pickle.dump(char_int_mapping, f)"
   ]
  },
  {
   "cell_type": "code",
   "execution_count": 13,
   "id": "e25d2540",
   "metadata": {},
   "outputs": [
    {
     "name": "stdout",
     "output_type": "stream",
     "text": [
      "1000\n"
     ]
    }
   ],
   "source": [
    "load_bpe_dict = True\n",
    "\n",
    "if load_bpe_dict:\n",
    "    with open('bpe_mapping.pkl', 'rb') as f:\n",
    "        char_int_mapping = pickle.load(f)\n",
    "        print(len(char_int_mapping))"
   ]
  },
  {
   "cell_type": "code",
   "execution_count": 14,
   "id": "5736983c",
   "metadata": {},
   "outputs": [
    {
     "name": "stdout",
     "output_type": "stream",
     "text": [
      "534\n"
     ]
    }
   ],
   "source": [
    "\"\"\" Example: Encode the text using a Byte Pair Encoding (BPE) \"\"\"\n",
    "\n",
    "with open(\"data/text_corpus.txt\", encoding=\"utf-8\") as f:\n",
    "    block_size = 1_000\n",
    "    text = f.read()\n",
    "    offset = np.random.randint(0, len(text) - block_size)\n",
    "    text = text[offset:offset+block_size]\n",
    "\n",
    "tokenized_text = bpe_tokenize_text(text)\n",
    "# print(tokenized_text)\n",
    "print(len(tokenized_text))"
   ]
  },
  {
   "cell_type": "code",
   "execution_count": 15,
   "id": "88f3bf27",
   "metadata": {},
   "outputs": [],
   "source": [
    "# create the encoder dict (reverse mapping)\n",
    "\n",
    "int_char_mapping = dict()\n",
    "\n",
    "for key, item in char_int_mapping.items():\n",
    "    int_char_mapping[item] = key"
   ]
  },
  {
   "cell_type": "code",
   "execution_count": 16,
   "id": "b6be7f23",
   "metadata": {},
   "outputs": [
    {
     "name": "stdout",
     "output_type": "stream",
     "text": [
      "1000\n"
     ]
    }
   ],
   "source": [
    "vocab_size = len(char_int_mapping)\n",
    "print(vocab_size)"
   ]
  },
  {
   "cell_type": "markdown",
   "id": "278b0040",
   "metadata": {},
   "source": [
    "### Encode the text dataset"
   ]
  },
  {
   "cell_type": "code",
   "execution_count": 17,
   "id": "dc127ac4",
   "metadata": {},
   "outputs": [],
   "source": [
    "def encode(string: str) -> List[int]:\n",
    "    tokenized_text = bpe_tokenize_text(string)\n",
    "    result = torch.tensor(tokenized_text, dtype=torch.long, device=device)\n",
    "    return result\n",
    "\n",
    "def decode(data:torch.tensor) -> str:\n",
    "    string = [int_char_mapping[num] for num in data.tolist()]\n",
    "    return \"\".join(string)"
   ]
  },
  {
   "cell_type": "code",
   "execution_count": 18,
   "id": "4f3d70ab",
   "metadata": {},
   "outputs": [
    {
     "data": {
      "text/plain": [
       "36.802521199999994"
      ]
     },
     "execution_count": 18,
     "metadata": {},
     "output_type": "execute_result"
    }
   ],
   "source": [
    "# 2M text len -> 114s (~2min) load time\n",
    "\n",
    "114 / 60 * 38_739_496 / 2_000_000 # time in mins for encoding entire text"
   ]
  },
  {
   "cell_type": "code",
   "execution_count": null,
   "id": "fd657387",
   "metadata": {},
   "outputs": [],
   "source": [
    "# 0-5M done. (769s, 2708019 tokens) -> bpe_dataset1.pkl\n",
    "# 5-10M TODO (837s, 2696978 tokens)-> bpe_dataset2.pkl\n",
    "# 10-15M TODO (595s, 2709264 tokens) -> bpe_dataset3\n",
    "# 15-20M TODO (781s, 2699014 tokens) => bpe_dataset4\n",
    "# 20-25M TODO (764s, 2702280 tokens) => bpe_dataset5\n",
    "# 25-30M TODO (797s, 2711570 tokens) => bpe_dataset6\n",
    "# 30-36RestM TODO (s, tokens) => bpe_dataset7,8,9,10,11,12\n",
    "#\n",
    "# COMBINE FILES TODO."
   ]
  },
  {
   "cell_type": "code",
   "execution_count": 106,
   "id": "1d7650c4",
   "metadata": {},
   "outputs": [],
   "source": [
    "\"\"\" Encode the text using a Byte Pair Encoding (BPE) \"\"\"\n",
    "\n",
    "encode_partial_dataset = False\n",
    "\n",
    "if encode_partial_dataset:\n",
    "    \n",
    "    start_time = time.time()\n",
    "    with open(\"data/text_corpus.txt\", encoding=\"utf-8\") as f:\n",
    "        text = f.read()[37_000_000:]\n",
    "    \n",
    "    train_data = encode(text)\n",
    "    print(train_data.shape)\n",
    "    \n",
    "    time.time() - start_time"
   ]
  },
  {
   "cell_type": "code",
   "execution_count": 108,
   "id": "134b88dc",
   "metadata": {},
   "outputs": [],
   "source": [
    "save_encoded_dataset = False\n",
    "\n",
    "if save_encoded_dataset:\n",
    "    with open('bpe_dataset_complete.pkl', 'wb') as f:\n",
    "        pickle.dump(train_data, f)"
   ]
  },
  {
   "cell_type": "code",
   "execution_count": 109,
   "id": "0372e30a",
   "metadata": {},
   "outputs": [],
   "source": [
    "load_encoded_dataset = False\n",
    "\n",
    "if load_encoded_dataset:\n",
    "    with open('byte_pair_encoded_dataset.pkl', 'rb') as f:\n",
    "        train_data = pickle.load(f)\n",
    "        print(train_data.shape)"
   ]
  },
  {
   "cell_type": "code",
   "execution_count": 105,
   "id": "d2ae70b6",
   "metadata": {},
   "outputs": [
    {
     "name": "stdout",
     "output_type": "stream",
     "text": [
      "bpe_dataset1.pkl\n",
      "bpe_dataset2.pkl\n",
      "bpe_dataset3.pkl\n",
      "bpe_dataset4.pkl\n",
      "bpe_dataset5.pkl\n",
      "bpe_dataset6.pkl\n",
      "bpe_dataset7.pkl\n",
      "bpe_dataset8.pkl\n",
      "bpe_dataset9.pkl\n",
      "bpe_dataset10.pkl\n",
      "bpe_dataset11.pkl\n",
      "bpe_dataset12.pkl\n"
     ]
    }
   ],
   "source": [
    "\"\"\" Concat all encoded dataset parts \"\"\"\n",
    "train_data = torch.tensor([], dtype=torch.long, device=device)\n",
    "\n",
    "for i in range(1,13):\n",
    "    print(f\"bpe_dataset{i}.pkl\")\n",
    "    with open(f\"bpe_dataset{i}.pkl\", 'rb') as f:\n",
    "        partial_train_data = pickle.load(f)\n",
    "        train_data = torch.cat((train_data, partial_train_data))"
   ]
  },
  {
   "cell_type": "markdown",
   "id": "222f0765",
   "metadata": {},
   "source": [
    "### Train/Test split"
   ]
  },
  {
   "cell_type": "code",
   "execution_count": 22,
   "id": "8ffb6c69",
   "metadata": {},
   "outputs": [],
   "source": [
    "# N = int(0.9*len(data))\n",
    "# train_data = data[:N]\n",
    "# test_data = data[N:]\n",
    "# \n",
    "# print(len(train_data), len(test_data))"
   ]
  },
  {
   "cell_type": "markdown",
   "id": "b72f353e",
   "metadata": {},
   "source": [
    "### Create minibatches"
   ]
  },
  {
   "cell_type": "code",
   "execution_count": 23,
   "id": "032acc34",
   "metadata": {},
   "outputs": [],
   "source": [
    "def get_batch(split: torch.tensor):\n",
    "    offsets = np.random.randint(0, len(split) - block_size, size=batch_size)\n",
    "    x = torch.stack([split[i:i+block_size] for i in offsets]).to(device)\n",
    "    y = torch.stack([split[i+1:i+block_size+1] for i in offsets]).to(device)\n",
    "    return x, y"
   ]
  },
  {
   "cell_type": "markdown",
   "id": "134c4b72",
   "metadata": {},
   "source": [
    "### Build the Transformer"
   ]
  },
  {
   "cell_type": "code",
   "execution_count": 98,
   "id": "6ffa661d",
   "metadata": {},
   "outputs": [],
   "source": [
    "# hyperparameters\n",
    "training_steps = 10_000\n",
    "n_layers = 24\n",
    "embed_dims = 512 # is equivalent to d_model\n",
    "block_size = 256\n",
    "batch_size = 50\n",
    "n_heads = 16\n",
    "dropout = 0.6\n",
    "head_size = embed_dims // n_heads\n",
    "\n",
    "assert head_size * n_heads == embed_dims"
   ]
  },
  {
   "cell_type": "code",
   "execution_count": 99,
   "id": "c0ca7e1b",
   "metadata": {},
   "outputs": [],
   "source": [
    "class SelfAttentionHead(nn.Module):\n",
    "    \n",
    "    def __init__(self):\n",
    "        super().__init__()\n",
    "        self.proj_q = nn.Linear(embed_dims, head_size, bias=False)\n",
    "        self.proj_k = nn.Linear(embed_dims, head_size, bias=False)\n",
    "        self.proj_v = nn.Linear(embed_dims, head_size, bias=False)\n",
    "        self.dropout = nn.Dropout(dropout)\n",
    "    \n",
    "    def forward(self, x):\n",
    "        \"\"\" \n",
    "        Applies masked scaled dot-product attention\n",
    "        between vectors of queries Q, keys K and values V. \n",
    "        \"\"\"\n",
    "        B,T,C = x.shape\n",
    "        \n",
    "        Q = self.proj_q(x)\n",
    "        K = self.proj_k(x)\n",
    "        V = self.proj_v(x)\n",
    "\n",
    "        W = (Q @ K.transpose(-1,-2)) # (B, T, C) @ (B, C, T) ==> (B,T,T)\n",
    "        W /= torch.sqrt(torch.tensor(head_size))\n",
    "        \n",
    "        # mask out forbidden connections\n",
    "        tril = torch.tril(torch.ones((block_size, block_size), device=device))\n",
    "        W = W.masked_fill(tril[:T, :T]==0, float(\"-inf\")) # make smaller so it fits if context < block_size\n",
    "        W = F.softmax(W, dim=1)\n",
    "        W = self.dropout(W)\n",
    "        \n",
    "        out = W @ V\n",
    "        return out # (B,T,C=head_size)"
   ]
  },
  {
   "cell_type": "code",
   "execution_count": 100,
   "id": "9f44fb82",
   "metadata": {},
   "outputs": [],
   "source": [
    "class MultiHeadAttention(nn.Module):\n",
    "    \n",
    "    def __init__(self):\n",
    "        super().__init__()\n",
    "\n",
    "        self.heads = nn.ModuleList([SelfAttentionHead() for i in range(n_heads)])\n",
    "        self.proj = nn.Linear(embed_dims, embed_dims, bias=False) # embed_dims = n_heads * head_size\n",
    "        self.dropout = nn.Dropout(dropout)\n",
    "    \n",
    "    def forward(self, x):\n",
    "        \n",
    "        out = torch.cat([attn_head(x) for attn_head in self.heads], dim=-1)\n",
    "        out = self.dropout(self.proj(out))\n",
    "        return out"
   ]
  },
  {
   "cell_type": "code",
   "execution_count": 101,
   "id": "74f2907c",
   "metadata": {},
   "outputs": [],
   "source": [
    "class Block(nn.Module):\n",
    "    \n",
    "    def __init__(self):\n",
    "        super().__init__()\n",
    "        self.attn = MultiHeadAttention()\n",
    "        self.ln1 = nn.LayerNorm(embed_dims)\n",
    "        self.ln2 = nn.LayerNorm(embed_dims)\n",
    "        \n",
    "        self.mlp = nn.Sequential(\n",
    "            nn.Linear(embed_dims, 4*embed_dims), # following attention-is-all-you-need paper for num hidden units\n",
    "            nn.ReLU(),\n",
    "            nn.Linear(4*embed_dims, embed_dims),\n",
    "            nn.Dropout(dropout),\n",
    "        )\n",
    "    \n",
    "    def forward(self, x):\n",
    "        \n",
    "        # Applies layernorm before self-attention.\n",
    "        # In the attention-is-all-you-need paper they apply it afterwards, \n",
    "        # but apparently pre-ln performs better. pre-ln paper: https://arxiv.org/pdf/2002.04745.pdf\n",
    "        \n",
    "        x = x + self.attn(self.ln1(x)) # (B,embed_dims)\n",
    "        x = x + self.mlp(self.ln2(x))\n",
    "        return x"
   ]
  },
  {
   "cell_type": "code",
   "execution_count": 102,
   "id": "fddc8df6",
   "metadata": {},
   "outputs": [],
   "source": [
    "class TransformerLanguageModel(nn.Module):\n",
    "    \n",
    "    def __init__(self):\n",
    "        super().__init__()\n",
    "        self.token_embedding_table = nn.Embedding(vocab_size, embed_dims)\n",
    "        \n",
    "        # positional encoding\n",
    "        self.pos_embedding_table = nn.Embedding(block_size, embed_dims)\n",
    "        \n",
    "        # transformer layers\n",
    "        self.blocks = nn.Sequential(*[Block() for i in range(n_layers)])\n",
    "        \n",
    "        # output layers\n",
    "        self.lm_head = nn.Linear(embed_dims, vocab_size)\n",
    "        \n",
    "    \n",
    "    def forward(self, context, targets=None):\n",
    "        \n",
    "        B, T = context.shape\n",
    "        \n",
    "        # get the embedding vectors word-to-vec style\n",
    "        token_emb = self.token_embedding_table(context) # (Batch, Time, Channels) ==> [4, 8, 62]\n",
    "        \n",
    "        # add the positional embedding'\n",
    "        pos_emb = self.pos_embedding_table(torch.arange(T, device=device)) # (T,C)\n",
    "        \n",
    "        x = token_emb + pos_emb\n",
    "\n",
    "        # transformer forward pass\n",
    "        x = self.blocks(x)\n",
    "\n",
    "        # output layers\n",
    "        logits = self.lm_head(x)        \n",
    "        \n",
    "        if targets is None:\n",
    "            loss = None\n",
    "        else:\n",
    "            B, T, C = logits.shape\n",
    "            logits = logits.view(B*T,C) # [32,64]\n",
    "            targets = targets.view(B*T) # [32]\n",
    "            loss = F.cross_entropy(logits, targets)\n",
    "        \n",
    "        return logits, loss\n",
    "\n",
    "    def generate(self, context, max_new_tokens, topk=3):\n",
    "        if topk <= 1:\n",
    "            raise Exception(\"topk should be >= 2.\")\n",
    "        B, T = context.shape\n",
    "        \n",
    "        # context: (Batch, Time) ==> [4, 8]\n",
    "        # -> extend context in Time dimension for max_new_tokens\n",
    "        \n",
    "        for _ in range(max_new_tokens):\n",
    "            \n",
    "            # get prediction\n",
    "            # logits, loss = self(xb, yb)\n",
    "            logits, loss = self(context[:,-block_size:])\n",
    "            \n",
    "            # get logits for the last character (for the next token)\n",
    "            logits = logits.view(B,-1,vocab_size) # (B,T,C)\n",
    "            logits = logits[:, -1, :] # (B,C) for only the last character\n",
    "            \n",
    "            if np.random.rand() < 0.8:\n",
    "            \n",
    "                # top-k sampling\n",
    "                topk_logits, topk_vals = torch.topk(logits, topk)\n",
    "                topk_vals = topk_vals.squeeze()\n",
    "                \n",
    "                probs = F.softmax(topk_logits, dim=-1)\n",
    "                idx = torch.multinomial(probs, num_samples=1).item()\n",
    "                next_token = topk_vals[idx]\n",
    "                next_token = next_token.view(1,1)\n",
    "            \n",
    "            else:\n",
    "                \n",
    "                # sample from entire distribution\n",
    "                probs = F.softmax(logits, dim=-1)\n",
    "                next_token = torch.multinomial(probs, num_samples=1)\n",
    "            \n",
    "            \n",
    "            # append next token to the sequence\n",
    "            context = torch.cat((context, next_token), dim=1) # (B,T+1)\n",
    "        \n",
    "        return context\n",
    "    \n",
    "    def generate_to_text(self, context, max_new_tokens, topk=3):\n",
    "        context = self.generate(context, max_new_tokens, topk)\n",
    "        return decode(context[0])\n",
    "\n",
    "# model = TransformerLanguageModel().to(device)"
   ]
  },
  {
   "cell_type": "code",
   "execution_count": 103,
   "id": "efd3ffc0",
   "metadata": {},
   "outputs": [
    {
     "data": {
      "text/plain": [
       "<All keys matched successfully>"
      ]
     },
     "execution_count": 103,
     "metadata": {},
     "output_type": "execute_result"
    }
   ],
   "source": [
    "model = TransformerLanguageModel().to(device)\n",
    "checkpoint = torch.load('weights/0.060485.weights')\n",
    "model.load_state_dict(checkpoint[\"model_state_dict\"])"
   ]
  },
  {
   "cell_type": "code",
   "execution_count": 175,
   "id": "874b1227",
   "metadata": {},
   "outputs": [
    {
     "name": "stderr",
     "output_type": "stream",
     "text": [
      " 16%|█████████████▋                                                                      | 1626/10000 [27:26<2:21:18,  1.01s/it]\n"
     ]
    },
    {
     "ename": "KeyboardInterrupt",
     "evalue": "",
     "output_type": "error",
     "traceback": [
      "\u001b[0;31m---------------------------------------------------------------------------\u001b[0m",
      "\u001b[0;31mKeyboardInterrupt\u001b[0m                         Traceback (most recent call last)",
      "Cell \u001b[0;32mIn [175], line 17\u001b[0m\n\u001b[1;32m     14\u001b[0m logits, loss \u001b[38;5;241m=\u001b[39m model(xb, yb)\n\u001b[1;32m     16\u001b[0m optimizer\u001b[38;5;241m.\u001b[39mzero_grad(set_to_none\u001b[38;5;241m=\u001b[39m\u001b[38;5;28;01mTrue\u001b[39;00m)\n\u001b[0;32m---> 17\u001b[0m \u001b[43mloss\u001b[49m\u001b[38;5;241;43m.\u001b[39;49m\u001b[43mbackward\u001b[49m\u001b[43m(\u001b[49m\u001b[43m)\u001b[49m\n\u001b[1;32m     18\u001b[0m optimizer\u001b[38;5;241m.\u001b[39mstep()\n\u001b[1;32m     20\u001b[0m losses\u001b[38;5;241m.\u001b[39mappend(loss\u001b[38;5;241m.\u001b[39mitem())\n",
      "File \u001b[0;32m~/.local/lib/python3.10/site-packages/torch/_tensor.py:396\u001b[0m, in \u001b[0;36mTensor.backward\u001b[0;34m(self, gradient, retain_graph, create_graph, inputs)\u001b[0m\n\u001b[1;32m    387\u001b[0m \u001b[38;5;28;01mif\u001b[39;00m has_torch_function_unary(\u001b[38;5;28mself\u001b[39m):\n\u001b[1;32m    388\u001b[0m     \u001b[38;5;28;01mreturn\u001b[39;00m handle_torch_function(\n\u001b[1;32m    389\u001b[0m         Tensor\u001b[38;5;241m.\u001b[39mbackward,\n\u001b[1;32m    390\u001b[0m         (\u001b[38;5;28mself\u001b[39m,),\n\u001b[0;32m   (...)\u001b[0m\n\u001b[1;32m    394\u001b[0m         create_graph\u001b[38;5;241m=\u001b[39mcreate_graph,\n\u001b[1;32m    395\u001b[0m         inputs\u001b[38;5;241m=\u001b[39minputs)\n\u001b[0;32m--> 396\u001b[0m \u001b[43mtorch\u001b[49m\u001b[38;5;241;43m.\u001b[39;49m\u001b[43mautograd\u001b[49m\u001b[38;5;241;43m.\u001b[39;49m\u001b[43mbackward\u001b[49m\u001b[43m(\u001b[49m\u001b[38;5;28;43mself\u001b[39;49m\u001b[43m,\u001b[49m\u001b[43m \u001b[49m\u001b[43mgradient\u001b[49m\u001b[43m,\u001b[49m\u001b[43m \u001b[49m\u001b[43mretain_graph\u001b[49m\u001b[43m,\u001b[49m\u001b[43m \u001b[49m\u001b[43mcreate_graph\u001b[49m\u001b[43m,\u001b[49m\u001b[43m \u001b[49m\u001b[43minputs\u001b[49m\u001b[38;5;241;43m=\u001b[39;49m\u001b[43minputs\u001b[49m\u001b[43m)\u001b[49m\n",
      "File \u001b[0;32m~/.local/lib/python3.10/site-packages/torch/autograd/__init__.py:173\u001b[0m, in \u001b[0;36mbackward\u001b[0;34m(tensors, grad_tensors, retain_graph, create_graph, grad_variables, inputs)\u001b[0m\n\u001b[1;32m    168\u001b[0m     retain_graph \u001b[38;5;241m=\u001b[39m create_graph\n\u001b[1;32m    170\u001b[0m \u001b[38;5;66;03m# The reason we repeat same the comment below is that\u001b[39;00m\n\u001b[1;32m    171\u001b[0m \u001b[38;5;66;03m# some Python versions print out the first line of a multi-line function\u001b[39;00m\n\u001b[1;32m    172\u001b[0m \u001b[38;5;66;03m# calls in the traceback and some print out the last line\u001b[39;00m\n\u001b[0;32m--> 173\u001b[0m \u001b[43mVariable\u001b[49m\u001b[38;5;241;43m.\u001b[39;49m\u001b[43m_execution_engine\u001b[49m\u001b[38;5;241;43m.\u001b[39;49m\u001b[43mrun_backward\u001b[49m\u001b[43m(\u001b[49m\u001b[43m  \u001b[49m\u001b[38;5;66;43;03m# Calls into the C++ engine to run the backward pass\u001b[39;49;00m\n\u001b[1;32m    174\u001b[0m \u001b[43m    \u001b[49m\u001b[43mtensors\u001b[49m\u001b[43m,\u001b[49m\u001b[43m \u001b[49m\u001b[43mgrad_tensors_\u001b[49m\u001b[43m,\u001b[49m\u001b[43m \u001b[49m\u001b[43mretain_graph\u001b[49m\u001b[43m,\u001b[49m\u001b[43m \u001b[49m\u001b[43mcreate_graph\u001b[49m\u001b[43m,\u001b[49m\u001b[43m \u001b[49m\u001b[43minputs\u001b[49m\u001b[43m,\u001b[49m\n\u001b[1;32m    175\u001b[0m \u001b[43m    \u001b[49m\u001b[43mallow_unreachable\u001b[49m\u001b[38;5;241;43m=\u001b[39;49m\u001b[38;5;28;43;01mTrue\u001b[39;49;00m\u001b[43m,\u001b[49m\u001b[43m \u001b[49m\u001b[43maccumulate_grad\u001b[49m\u001b[38;5;241;43m=\u001b[39;49m\u001b[38;5;28;43;01mTrue\u001b[39;49;00m\u001b[43m)\u001b[49m\n",
      "\u001b[0;31mKeyboardInterrupt\u001b[0m: "
     ]
    }
   ],
   "source": [
    "train = True\n",
    "\n",
    "if train:\n",
    "    model.train()\n",
    "    optimizer = torch.optim.Adam(model.parameters(), lr=4e-3)\n",
    "    losses = []\n",
    "    \n",
    "    for step in tqdm(range(training_steps)):\n",
    "        \n",
    "        # get a batch\n",
    "        xb, yb = get_batch(train_data)\n",
    "        \n",
    "        # predict and get loss\n",
    "        logits, loss = model(xb, yb)\n",
    "        \n",
    "        optimizer.zero_grad(set_to_none=True)\n",
    "        loss.backward()\n",
    "        optimizer.step()\n",
    "        \n",
    "        losses.append(loss.item())\n",
    "    \n",
    "        if step % 500 == 0 or step == training_steps-1:\n",
    "            if not os.path.exists(\"weights/small_dataset\"):\n",
    "                os.mkdir(\"weights/small_dataset\")\n",
    "            torch.save({\n",
    "                    'epoch': step,\n",
    "                    'model_state_dict': model.state_dict(),\n",
    "                    'loss': loss,\n",
    "                    }, f\"weights/{np.mean(losses[-50:]):5f}.weights\")\n",
    "    \n",
    "    plt.plot(losses)\n",
    "    \n",
    "    # check the final performance\n",
    "    print(np.mean(losses[-50:]))"
   ]
  },
  {
   "cell_type": "code",
   "execution_count": 176,
   "id": "914f1efa",
   "metadata": {},
   "outputs": [
    {
     "data": {
      "image/png": "[encoded data removed]",
      "text/plain": [
       "<Figure size 640x480 with 1 Axes>"
      ]
     },
     "metadata": {},
     "output_type": "display_data"
    }
   ],
   "source": [
    "if train:\n",
    "    \n",
    "    rolling_length = 50\n",
    "    \n",
    "    losses_mov_avg = (\n",
    "        np.convolve(\n",
    "            np.array(losses),\n",
    "            np.ones(rolling_length),\n",
    "            mode=\"valid\",\n",
    "        )\n",
    "        / rolling_length\n",
    "    )\n",
    "    \n",
    "    plt.title(\"Crossentropy loss moving average\")\n",
    "    plt.plot(losses_mov_avg)"
   ]
  },
  {
   "cell_type": "code",
   "execution_count": 177,
   "id": "cf065d0a",
   "metadata": {},
   "outputs": [],
   "source": [
    "def prompt_model(model, prompt=None, max_new_tokens=200, topk=3):\n",
    "    model.eval();\n",
    "    \n",
    "    # pad the prompt so that it has at least the length of block_size\n",
    "    # and so that the model is guided into giving an answer\n",
    "    pre_padding = \"Ultimately, what we need to remember is that every person has a unique perspective and experiences that shape their opinions and actions. We must strive to approach each conversation with empathy and understanding, and be willing to listen and learn from one another. Only then can we truly progress and create a better world for ourselves and future generations.\\n Unfortunately we only have time for one final question. There is one thing that I have to ask you. \\n\"\n",
    "    post_padding = \"\\nThat's such an interesting question. I think that \"\n",
    "    \n",
    "    if prompt is None or prompt == \"\":\n",
    "        # give zero context\n",
    "        prompt = \"\"\n",
    "    \n",
    "    context = pre_padding + prompt + post_padding\n",
    "    \n",
    "    # convert prompt to a batched tensor\n",
    "    context_tensor = encode(context)\n",
    "    context_tensor = torch.unsqueeze(context_tensor, 0)\n",
    "    \n",
    "    output = model.generate_to_text(context_tensor, max_new_tokens, topk)\n",
    "    answer = output\n",
    "    return answer"
   ]
  },
  {
   "cell_type": "code",
   "execution_count": 178,
   "id": "61e6c6f7",
   "metadata": {},
   "outputs": [
    {
     "name": "stdout",
     "output_type": "stream",
     "text": [
      "Ultimately, what we need to remember is that every person has a unique perspective and experiences that shape their opinions and actions. We must strive to approach each conversation with empathy and understanding, and be willing to listen and learn from one another. Only then can we truly progress and create a better world for ourselves and future generations.\n",
      " Unfortunately we only have time for one final question. There is one thing that I have to ask you. \n",
      "What do you think about Elon?\n",
      "That's such an interesting question. I think that it's this this a sirasionart of fureareararareartionasionacatias it it with a saicacicactiople it's like this uppaseareampicicici\n"
     ]
    }
   ],
   "source": [
    "prompt = \"What do you think about Elon?\"\n",
    "answer = prompt_model(model, prompt, max_new_tokens=100, topk=2)\n",
    "print(answer)"
   ]
  },
  {
   "cell_type": "code",
   "execution_count": 166,
   "id": "c6082f37",
   "metadata": {},
   "outputs": [
    {
     "data": {
      "text/plain": [
       "torch.Size([50, 256])"
      ]
     },
     "execution_count": 166,
     "metadata": {},
     "output_type": "execute_result"
    }
   ],
   "source": [
    "get_batch(train_data)[0].shape"
   ]
  },
  {
   "cell_type": "code",
   "execution_count": 172,
   "id": "e7ca7c62",
   "metadata": {},
   "outputs": [
    {
     "data": {
      "text/plain": [
       "\"Ultimately, what we need to remember is that every person has a unique perspective and experiences that shape their opinions and actions. We must strive to approach each conversation with empathy and understanding, and be willing to listen and learn from one another. Only then can we truly progress and create a better world for ourselves and future generations.\\n Unfortunately we only have time for one final question. There is one thing that I have to ask you. \\ns a sign of the times being good,\\n is that it's just entertaining\\n on some unpleasant mammalian level to watch,\\n to disagree with others.\\n And Twitter and Facebook are actually taking advantage\\n of that in a sense because it brings you back\\n to the platform and they're advertiser driven,\\n so they make a lot of money.\\n So you go back and you click.\\n Love doesn't sell quite as well in terms of advertisement.\\n It doesn't.\\n So you've started your career\\n at NASA Jet \\nThat's such an interesting question. I think that that's most intiditiont, you know, this that you have that eally setuntake that is a that it pasuntistis,\\n things that wen't have to exple that that you have that eally be all ach that that you seally have to tenenti\""
      ]
     },
     "execution_count": 172,
     "metadata": {},
     "output_type": "execute_result"
    }
   ],
   "source": [
    "prompt_model(model, decode(get_batch(train_data)[0][0]), max_new_tokens=100, topk=2)"
   ]
  },
  {
   "cell_type": "markdown",
   "id": "30153611",
   "metadata": {},
   "source": [
    "### Parameter count and losses for different models"
   ]
  },
  {
   "cell_type": "code",
   "execution_count": 41,
   "id": "86d86645",
   "metadata": {},
   "outputs": [],
   "source": [
    "# report the parameters and loss with 5k training steps:\n",
    "\n",
    "# --- tiny dataset (10k tokens) ---\n",
    "# bigram model: 3844 ==> loss to 2.5\n",
    "# with one multihead attention (5 heads): 53262 ==> loss to 0.35\n",
    "# with one multihead attention (5 heads) and residual connection: 53262 ==> loss to 0.30\n",
    "# with one full block: 134162 ==> loss to 0.24\n",
    "# with 5 blocks: 617762 ==> loss to 0.12\n",
    "\n",
    "# --- large dataset (38M tokens)--- \n",
    "# bigger model: 5 015 318 (5M) ==> loss to 0.0116\n",
    "# large model: 75 892 886 (75M) ==> loss to 0.0074 (4.5h training = 15k steps)\n",
    "# large model: 75 892 886 (75M) with longer training ==> loss to 0.0067 (20k steps with 3e-4 + 5k steps with 1e-4 lr)\n",
    "\n",
    "# --- byte-pair encoding\n",
    "# 3k steps: 0.06048505887389183"
   ]
  },
  {
   "cell_type": "code",
   "execution_count": null,
   "id": "a03abbd8",
   "metadata": {},
   "outputs": [],
   "source": []
  }
 ],
 "metadata": {
  "kernelspec": {
   "display_name": "Python 3 (ipykernel)",
   "language": "python",
   "name": "python3"
  },
  "language_info": {
   "codemirror_mode": {
    "name": "ipython",
    "version": 3
   },
   "file_extension": ".py",
   "mimetype": "text/x-python",
   "name": "python",
   "nbconvert_exporter": "python",
   "pygments_lexer": "ipython3",
   "version": "3.10.4"
  }
 },
 "nbformat": 4,
 "nbformat_minor": 5
}
