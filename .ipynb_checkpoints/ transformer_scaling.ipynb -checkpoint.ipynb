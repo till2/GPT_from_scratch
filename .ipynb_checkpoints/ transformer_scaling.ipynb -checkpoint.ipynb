{
 "cells": [
  {
   "cell_type": "markdown",
   "id": "4c0b6962",
   "metadata": {},
   "source": [
    "### Define an input vector with one large number"
   ]
  },
  {
   "cell_type": "code",
   "execution_count": 1,
   "id": "2b67cec4",
   "metadata": {},
   "outputs": [],
   "source": [
    "import numpy as np\n",
    "\n",
    "X = np.array([1, 20, 3, 4])"
   ]
  },
  {
   "cell_type": "markdown",
   "id": "1a8371c1",
   "metadata": {},
   "source": [
    "### Softmax function"
   ]
  },
  {
   "cell_type": "code",
   "execution_count": 2,
   "id": "67714fe3",
   "metadata": {},
   "outputs": [],
   "source": [
    "def single_param_sm(z_i, X):\n",
    "    return np.exp(z_i) / np.sum(np.exp(X))"
   ]
  },
  {
   "cell_type": "code",
   "execution_count": 3,
   "id": "a5069a37",
   "metadata": {},
   "outputs": [],
   "source": [
    "def sm(X):\n",
    "    out = []\n",
    "    for i, z_i in enumerate(X):\n",
    "        out.append(single_param_sm(z_i, X))\n",
    "    return np.array(out)"
   ]
  },
  {
   "cell_type": "code",
   "execution_count": 4,
   "id": "396a5d06",
   "metadata": {},
   "outputs": [
    {
     "data": {
      "text/plain": [
       "array([5.60279554e-09, 9.99999840e-01, 4.13993706e-08, 1.12535157e-07])"
      ]
     },
     "execution_count": 4,
     "metadata": {},
     "output_type": "execute_result"
    }
   ],
   "source": [
    "out = sm(X)\n",
    "out"
   ]
  },
  {
   "cell_type": "markdown",
   "id": "f0defabf",
   "metadata": {},
   "source": [
    "### Gradient of the Softmax function"
   ]
  },
  {
   "cell_type": "code",
   "execution_count": 5,
   "id": "9005775a",
   "metadata": {},
   "outputs": [],
   "source": [
    "def sm_grad_wrt_zj(X, j): # we take the gradient with respect to the parameter at index j\n",
    "    grad = []\n",
    "    for i, z_i in enumerate(X):\n",
    "        if i == j:\n",
    "            grad.append(single_param_sm(z_i, X) * (1 - single_param_sm(z_i, X)))\n",
    "        else:\n",
    "            grad.append(- single_param_sm(z_i, X) * single_param_sm(X[j], X))\n",
    "    return grad"
   ]
  },
  {
   "cell_type": "code",
   "execution_count": 6,
   "id": "30fab7cb",
   "metadata": {},
   "outputs": [
    {
     "data": {
      "text/plain": [
       "[5.602795512290805e-09,\n",
       " -5.602794649827122e-09,\n",
       " -2.3195220901427037e-16,\n",
       " -6.305114748344254e-16]"
      ]
     },
     "execution_count": 6,
     "metadata": {},
     "output_type": "execute_result"
    }
   ],
   "source": [
    "sm_grad_wrt_zj(X,0) # problem: the gradient is really small -> the network learns really slowly.."
   ]
  },
  {
   "cell_type": "markdown",
   "id": "7519b1c5",
   "metadata": {},
   "source": [
    "### Fix: scale the vector/matrix by $d_k$\n",
    "\n",
    "Here $d_k = 4$, so we multiply X by $\\frac{1}{\\sqrt{4}} = \\frac{1}{2}$."
   ]
  },
  {
   "cell_type": "code",
   "execution_count": 7,
   "id": "aaa09e2e",
   "metadata": {},
   "outputs": [],
   "source": [
    "def sm_grad_wrt_zj(X, j): # we take the gradient with respect to the parameter at index j\n",
    "    \n",
    "    scaled_X = X / np.sqrt(X.shape[0])\n",
    "    \n",
    "    grad = []\n",
    "    for i, z_i in enumerate(X):\n",
    "        if i == j:\n",
    "            grad.append(single_param_sm(z_i, scaled_X) * (1 - single_param_sm(z_i, scaled_X)))\n",
    "        else:\n",
    "            grad.append(- single_param_sm(z_i, scaled_X) * single_param_sm(X[j], scaled_X))\n",
    "    return grad"
   ]
  },
  {
   "cell_type": "code",
   "execution_count": 8,
   "id": "55b981ab",
   "metadata": {},
   "outputs": [
    {
     "data": {
      "text/plain": [
       "[0.0001233188924307067,\n",
       " -2.714948028707061,\n",
       " -1.1239715748585796e-07,\n",
       " -3.0552715076425723e-07]"
      ]
     },
     "execution_count": 8,
     "metadata": {},
     "output_type": "execute_result"
    }
   ],
   "source": [
    "sm_grad_wrt_zj(X,0) # much better!"
   ]
  }
 ],
 "metadata": {
  "kernelspec": {
   "display_name": "Python 3 (ipykernel)",
   "language": "python",
   "name": "python3"
  },
  "language_info": {
   "codemirror_mode": {
    "name": "ipython",
    "version": 3
   },
   "file_extension": ".py",
   "mimetype": "text/x-python",
   "name": "python",
   "nbconvert_exporter": "python",
   "pygments_lexer": "ipython3",
   "version": "3.10.4"
  }
 },
 "nbformat": 4,
 "nbformat_minor": 5
}
