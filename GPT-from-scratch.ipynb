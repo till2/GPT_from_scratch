{
 "cells": [
  {
   "cell_type": "code",
   "execution_count": 1,
   "id": "81c6f554",
   "metadata": {
    "scrolled": true
   },
   "outputs": [
    {
     "name": "stdout",
     "output_type": "stream",
     "text": [
      "Hello worldo!\n"
     ]
    }
   ],
   "source": [
    "print(\"Hello worldo!\")"
   ]
  },
  {
   "cell_type": "code",
   "execution_count": 2,
   "id": "17b3298b",
   "metadata": {},
   "outputs": [],
   "source": [
    "# TODO:\n",
    "# device = \"cuda\" if torch.cuda.is_available() else \"cpu\"\n",
    "# model and batch: .to(device)"
   ]
  },
  {
   "cell_type": "code",
   "execution_count": 3,
   "id": "6fa94449",
   "metadata": {},
   "outputs": [
    {
     "data": {
      "text/plain": [
       "<torch._C.Generator at 0x7fddd37df210>"
      ]
     },
     "execution_count": 3,
     "metadata": {},
     "output_type": "execute_result"
    }
   ],
   "source": [
    "from __future__ import annotations\n",
    "import typing\n",
    "\n",
    "import numpy as np\n",
    "import matplotlib.pyplot as plt\n",
    "\n",
    "import torch\n",
    "import torch.nn as nn\n",
    "import torch.nn.functional as F\n",
    "\n",
    "torch.manual_seed(3654)"
   ]
  },
  {
   "cell_type": "code",
   "execution_count": 4,
   "id": "0e1c6932",
   "metadata": {},
   "outputs": [],
   "source": [
    "def count_trainable_parameters(model):\n",
    "    return sum(p.numel() for p in model.parameters() if p.requires_grad)"
   ]
  },
  {
   "cell_type": "markdown",
   "id": "dd8e1971",
   "metadata": {},
   "source": [
    "### Get text data"
   ]
  },
  {
   "cell_type": "code",
   "execution_count": 5,
   "id": "6e97ce57",
   "metadata": {},
   "outputs": [],
   "source": [
    "with open(\"text_corpus.txt\", encoding=\"utf-8\") as f:\n",
    "    text = f.read()[:10_000]"
   ]
  },
  {
   "cell_type": "code",
   "execution_count": 6,
   "id": "b6ff1d38",
   "metadata": {},
   "outputs": [
    {
     "name": "stdout",
     "output_type": "stream",
     "text": [
      "['\\n', ' ', '%', \"'\", ',', '.', '0', '1', '2', '3', '5', '6', '7', '8', '9', '?', 'A', 'B', 'C', 'D', 'E', 'F', 'G', 'H', 'I', 'J', 'L', 'M', 'N', 'O', 'P', 'R', 'S', 'T', 'W', 'Y', 'a', 'b', 'c', 'd', 'e', 'f', 'g', 'h', 'i', 'j', 'k', 'l', 'm', 'n', 'o', 'p', 'q', 'r', 's', 't', 'u', 'v', 'w', 'x', 'y', 'z']\n"
     ]
    }
   ],
   "source": [
    "vocab = sorted(set(text))\n",
    "print(vocab)"
   ]
  },
  {
   "cell_type": "code",
   "execution_count": 7,
   "id": "6ea75fec",
   "metadata": {},
   "outputs": [
    {
     "data": {
      "text/plain": [
       "62"
      ]
     },
     "execution_count": 7,
     "metadata": {},
     "output_type": "execute_result"
    }
   ],
   "source": [
    "vocab_size = len(vocab)\n",
    "vocab_size"
   ]
  },
  {
   "cell_type": "markdown",
   "id": "09f90281",
   "metadata": {},
   "source": [
    "### Encode the characters to integers"
   ]
  },
  {
   "cell_type": "code",
   "execution_count": 8,
   "id": "f56c27f8",
   "metadata": {},
   "outputs": [],
   "source": [
    "# Create encoder and decoder dicts\n",
    "\n",
    "char_int_mapping = dict()\n",
    "int_char_mapping = dict()\n",
    "\n",
    "for i, c in enumerate(sorted(set(text))):\n",
    "    char_int_mapping[c] = i\n",
    "    int_char_mapping[i] = c"
   ]
  },
  {
   "cell_type": "code",
   "execution_count": 9,
   "id": "4f799812",
   "metadata": {},
   "outputs": [
    {
     "name": "stdout",
     "output_type": "stream",
     "text": [
      "42\n",
      "g\n"
     ]
    }
   ],
   "source": [
    "# examples\n",
    "print(char_int_mapping[\"g\"])\n",
    "print(int_char_mapping[42])"
   ]
  },
  {
   "cell_type": "code",
   "execution_count": 10,
   "id": "56852e0a",
   "metadata": {},
   "outputs": [],
   "source": [
    "def encode(string: str) -> List[int]:\n",
    "    int_list = [char_int_mapping[char] for char in string]\n",
    "    return int_list\n",
    "\n",
    "def decode(int_list: List[int]) -> str:\n",
    "    string = [int_char_mapping[num] for num in int_list]\n",
    "    return \"\".join(string)"
   ]
  },
  {
   "cell_type": "code",
   "execution_count": 11,
   "id": "a77fe53a",
   "metadata": {},
   "outputs": [
    {
     "name": "stdout",
     "output_type": "stream",
     "text": [
      "[43, 40, 47, 47, 50, 50, 50]\n",
      "hellooo\n"
     ]
    }
   ],
   "source": [
    "# examples\n",
    "print(encode(\"hellooo\"))\n",
    "print(decode([43, 40, 47, 47, 50, 50, 50]))"
   ]
  },
  {
   "cell_type": "code",
   "execution_count": 12,
   "id": "931bc151",
   "metadata": {},
   "outputs": [
    {
     "data": {
      "text/plain": [
       "[43, 40, 47, 47, 50, 1, 58, 50, 53, 47, 39]"
      ]
     },
     "execution_count": 12,
     "metadata": {},
     "output_type": "execute_result"
    }
   ],
   "source": [
    "encode(\"hello world\")"
   ]
  },
  {
   "cell_type": "markdown",
   "id": "278b0040",
   "metadata": {},
   "source": [
    "### Make it a tensor"
   ]
  },
  {
   "cell_type": "code",
   "execution_count": 13,
   "id": "1d7650c4",
   "metadata": {},
   "outputs": [
    {
     "data": {
      "text/plain": [
       "torch.Size([10000])"
      ]
     },
     "execution_count": 13,
     "metadata": {},
     "output_type": "execute_result"
    }
   ],
   "source": [
    "data = torch.tensor(encode(text), dtype=torch.long)\n",
    "data.shape"
   ]
  },
  {
   "cell_type": "markdown",
   "id": "222f0765",
   "metadata": {},
   "source": [
    "### Train/Test split"
   ]
  },
  {
   "cell_type": "code",
   "execution_count": 14,
   "id": "49865796",
   "metadata": {},
   "outputs": [
    {
     "data": {
      "text/plain": [
       "10000"
      ]
     },
     "execution_count": 14,
     "metadata": {},
     "output_type": "execute_result"
    }
   ],
   "source": [
    "len(data)"
   ]
  },
  {
   "cell_type": "code",
   "execution_count": 15,
   "id": "8ffb6c69",
   "metadata": {},
   "outputs": [
    {
     "name": "stdout",
     "output_type": "stream",
     "text": [
      "9000 1000\n"
     ]
    }
   ],
   "source": [
    "N = int(0.9*len(data))\n",
    "train_data = data[:N]\n",
    "test_data = data[N:]\n",
    "\n",
    "print(len(train_data), len(test_data))"
   ]
  },
  {
   "cell_type": "markdown",
   "id": "b72f353e",
   "metadata": {},
   "source": [
    "### Create minibatches"
   ]
  },
  {
   "cell_type": "code",
   "execution_count": 16,
   "id": "ff15c9fe",
   "metadata": {},
   "outputs": [],
   "source": [
    "block_size = 8 # block_size is the maximum context length (input textblock size)\n",
    "batch_size = 4"
   ]
  },
  {
   "cell_type": "code",
   "execution_count": 17,
   "id": "6a74fc6f",
   "metadata": {},
   "outputs": [
    {
     "data": {
      "text/plain": [
       "tensor([ 1, 53, 40, 48, 40, 48, 37, 40])"
      ]
     },
     "execution_count": 17,
     "metadata": {},
     "output_type": "execute_result"
    }
   ],
   "source": [
    "train_data[:block_size]"
   ]
  },
  {
   "cell_type": "code",
   "execution_count": 18,
   "id": "032acc34",
   "metadata": {},
   "outputs": [],
   "source": [
    "def get_batch(split: torch.tensor):\n",
    "    offsets = np.random.randint(0, len(split) - batch_size, size=batch_size)\n",
    "    x = torch.stack([split[i:i+block_size] for i in offsets])\n",
    "    y = torch.stack([split[i+1:i+block_size+1] for i in offsets])\n",
    "    return x, y"
   ]
  },
  {
   "cell_type": "code",
   "execution_count": 19,
   "id": "16b37b55",
   "metadata": {},
   "outputs": [
    {
     "data": {
      "text/plain": [
       "tensor([[44, 49, 42,  1, 47, 44, 46, 40],\n",
       "        [49, 42,  1, 50, 41,  1, 58, 44],\n",
       "        [49, 42,  1, 36, 49, 55, 44, 37],\n",
       "        [54, 56, 51, 51, 50, 53, 55, 54]])"
      ]
     },
     "execution_count": 19,
     "metadata": {},
     "output_type": "execute_result"
    }
   ],
   "source": [
    "xb, yb = get_batch(train_data)\n",
    "xb"
   ]
  },
  {
   "cell_type": "code",
   "execution_count": 20,
   "id": "f4dc59eb",
   "metadata": {},
   "outputs": [
    {
     "data": {
      "text/plain": [
       "tensor([[49, 42,  1, 47, 44, 46, 40,  1],\n",
       "        [42,  1, 50, 41,  1, 58, 44, 49],\n",
       "        [42,  1, 36, 49, 55, 44, 37, 44],\n",
       "        [56, 51, 51, 50, 53, 55, 54,  1]])"
      ]
     },
     "execution_count": 20,
     "metadata": {},
     "output_type": "execute_result"
    }
   ],
   "source": [
    "yb"
   ]
  },
  {
   "cell_type": "code",
   "execution_count": 21,
   "id": "1859006f",
   "metadata": {},
   "outputs": [
    {
     "data": {
      "text/plain": [
       "'supports'"
      ]
     },
     "execution_count": 21,
     "metadata": {},
     "output_type": "execute_result"
    }
   ],
   "source": [
    "decode(xb[3].tolist())"
   ]
  },
  {
   "cell_type": "code",
   "execution_count": 22,
   "id": "6caf66d0",
   "metadata": {},
   "outputs": [
    {
     "name": "stdout",
     "output_type": "stream",
     "text": [
      "----- BATCH 0 -----\n",
      "context: i -> target: n\n",
      "context: in -> target: g\n",
      "context: ing -> target:  \n",
      "context: ing  -> target: l\n",
      "context: ing l -> target: i\n",
      "context: ing li -> target: k\n",
      "context: ing lik -> target: e\n",
      "context: ing like -> target:  \n",
      "\n",
      "context: [44] -> target: 49\n",
      "context: [44, 49] -> target: 42\n",
      "context: [44, 49, 42] -> target: 1\n",
      "context: [44, 49, 42, 1] -> target: 47\n",
      "context: [44, 49, 42, 1, 47] -> target: 44\n",
      "context: [44, 49, 42, 1, 47, 44] -> target: 46\n",
      "context: [44, 49, 42, 1, 47, 44, 46] -> target: 40\n",
      "context: [44, 49, 42, 1, 47, 44, 46, 40] -> target: 1\n",
      "\n",
      "----- BATCH 1 -----\n",
      "context: n -> target: g\n",
      "context: ng -> target:  \n",
      "context: ng  -> target: o\n",
      "context: ng o -> target: f\n",
      "context: ng of -> target:  \n",
      "context: ng of  -> target: w\n",
      "context: ng of w -> target: i\n",
      "context: ng of wi -> target: n\n",
      "\n",
      "context: [49] -> target: 42\n",
      "context: [49, 42] -> target: 1\n",
      "context: [49, 42, 1] -> target: 50\n",
      "context: [49, 42, 1, 50] -> target: 41\n",
      "context: [49, 42, 1, 50, 41] -> target: 1\n",
      "context: [49, 42, 1, 50, 41, 1] -> target: 58\n",
      "context: [49, 42, 1, 50, 41, 1, 58] -> target: 44\n",
      "context: [49, 42, 1, 50, 41, 1, 58, 44] -> target: 49\n",
      "\n",
      "----- BATCH 2 -----\n",
      "context: n -> target: g\n",
      "context: ng -> target:  \n",
      "context: ng  -> target: a\n",
      "context: ng a -> target: n\n",
      "context: ng an -> target: t\n",
      "context: ng ant -> target: i\n",
      "context: ng anti -> target: b\n",
      "context: ng antib -> target: i\n",
      "\n",
      "context: [49] -> target: 42\n",
      "context: [49, 42] -> target: 1\n",
      "context: [49, 42, 1] -> target: 36\n",
      "context: [49, 42, 1, 36] -> target: 49\n",
      "context: [49, 42, 1, 36, 49] -> target: 55\n",
      "context: [49, 42, 1, 36, 49, 55] -> target: 44\n",
      "context: [49, 42, 1, 36, 49, 55, 44] -> target: 37\n",
      "context: [49, 42, 1, 36, 49, 55, 44, 37] -> target: 44\n",
      "\n",
      "----- BATCH 3 -----\n",
      "context: s -> target: u\n",
      "context: su -> target: p\n",
      "context: sup -> target: p\n",
      "context: supp -> target: o\n",
      "context: suppo -> target: r\n",
      "context: suppor -> target: t\n",
      "context: support -> target: s\n",
      "context: supports -> target:  \n",
      "\n",
      "context: [54] -> target: 56\n",
      "context: [54, 56] -> target: 51\n",
      "context: [54, 56, 51] -> target: 51\n",
      "context: [54, 56, 51, 51] -> target: 50\n",
      "context: [54, 56, 51, 51, 50] -> target: 53\n",
      "context: [54, 56, 51, 51, 50, 53] -> target: 55\n",
      "context: [54, 56, 51, 51, 50, 53, 55] -> target: 54\n",
      "context: [54, 56, 51, 51, 50, 53, 55, 54] -> target: 1\n",
      "\n"
     ]
    }
   ],
   "source": [
    "for b in range(batch_size):\n",
    "    print(f\"----- BATCH {b} -----\")\n",
    "    \n",
    "    for t in range(block_size):\n",
    "        context = xb[b][:t+1]\n",
    "        target = yb[b][t]\n",
    "        print(f\"context: {decode(context.tolist())} -> target: {decode([int(target)])}\")\n",
    "    print()\n",
    "        \n",
    "    for t in range(block_size):\n",
    "        context = xb[b][:t+1]\n",
    "        target = yb[b][t]\n",
    "        print(f\"context: {context.tolist()} -> target: {int(target)}\")\n",
    "    print()"
   ]
  },
  {
   "cell_type": "markdown",
   "id": "343e228c",
   "metadata": {},
   "source": [
    "### Create a simple model"
   ]
  },
  {
   "cell_type": "code",
   "execution_count": 23,
   "id": "83559181",
   "metadata": {},
   "outputs": [
    {
     "data": {
      "text/plain": [
       "BigramLanguageModel(\n",
       "  (token_embedding_table): Embedding(62, 62)\n",
       ")"
      ]
     },
     "execution_count": 23,
     "metadata": {},
     "output_type": "execute_result"
    }
   ],
   "source": [
    "class BigramLanguageModel(nn.Module):\n",
    "    \n",
    "    def __init__(self, vocab_size):\n",
    "        super().__init__()\n",
    "        self.token_embedding_table = nn.Embedding(vocab_size, vocab_size)\n",
    "    \n",
    "    def forward(self, context, targets):\n",
    "        logits = self.token_embedding_table(context) # (Batch, Time, Channels) ==> [4, 8, 62]\n",
    "\n",
    "        B, T, C = logits.shape\n",
    "        logits = logits.view(B*T,C) # [32,64]\n",
    "        targets = targets.view(B*T) # [32]\n",
    "        loss = F.cross_entropy(logits, targets)\n",
    "        \n",
    "        return logits, loss\n",
    "\n",
    "    def generate(self, context, max_new_tokens):\n",
    "        \n",
    "        # context: (Batch, Time) ==> [4, 8]\n",
    "        # -> extend context in Time dimension for max_new_tokens\n",
    "        \n",
    "        for _ in range(max_new_tokens):\n",
    "            \n",
    "            # get prediction\n",
    "            logits, loss = self(xb, yb)\n",
    "            \n",
    "            # get logits for the last character \n",
    "            # (because we only need the last char to predict with our bigram model)\n",
    "            logits = logits.view(batch_size,-1,vocab_size) # (B,T,C)\n",
    "            logits = logits[:, -1, :] # (B,C) for only the last character\n",
    "            \n",
    "            probs = F.softmax(logits, dim=-1) # (B,C)\n",
    "            next_token = torch.multinomial(probs, num_samples=1) # (B,1)\n",
    "            \n",
    "            # append next token to the sequence\n",
    "            context = torch.cat((context, next_token), dim=1) # (B,T+1)\n",
    "        \n",
    "        return context\n",
    "    \n",
    "    def generate_to_text(self, context, max_new_tokens):\n",
    "        context = self.generate(context, max_new_tokens)\n",
    "        return decode(context[0].tolist())\n",
    "\n",
    "model = BigramLanguageModel(vocab_size)\n",
    "model"
   ]
  },
  {
   "cell_type": "code",
   "execution_count": 24,
   "id": "48112030",
   "metadata": {},
   "outputs": [
    {
     "data": {
      "text/plain": [
       "3844"
      ]
     },
     "execution_count": 24,
     "metadata": {},
     "output_type": "execute_result"
    }
   ],
   "source": [
    "count_trainable_parameters(model)"
   ]
  },
  {
   "cell_type": "markdown",
   "id": "0aa35b9e",
   "metadata": {},
   "source": [
    "### Train the simple model"
   ]
  },
  {
   "cell_type": "code",
   "execution_count": 49,
   "id": "64ccb16a",
   "metadata": {},
   "outputs": [],
   "source": [
    "batch_size = 32\n",
    "losses = []\n",
    "\n",
    "optimizer = torch.optim.Adam(model.parameters(), lr=1e-3)\n",
    "\n",
    "for step in range(5_000):\n",
    "    \n",
    "    # get a batch\n",
    "    xb, yb = get_batch(train_data)\n",
    "    \n",
    "    # predict and get loss\n",
    "    logits, loss = model(xb, yb)\n",
    "    \n",
    "    optimizer.zero_grad(set_to_none=True)\n",
    "    loss.backward()\n",
    "    optimizer.step()\n",
    "    \n",
    "    losses.append(loss.item())"
   ]
  },
  {
   "cell_type": "code",
   "execution_count": 27,
   "id": "9985f728",
   "metadata": {
    "scrolled": false
   },
   "outputs": [
    {
     "data": {
      "text/plain": [
       "[<matplotlib.lines.Line2D at 0x7fdd50729000>]"
      ]
     },
     "execution_count": 27,
     "metadata": {},
     "output_type": "execute_result"
    },
    {
     "data": {
      "image/png": "[encoded data removed]",
      "text/plain": [
       "<Figure size 640x480 with 1 Axes>"
      ]
     },
     "metadata": {},
     "output_type": "display_data"
    }
   ],
   "source": [
    "plt.plot(losses)"
   ]
  },
  {
   "cell_type": "code",
   "execution_count": 28,
   "id": "96b39d33",
   "metadata": {},
   "outputs": [
    {
     "data": {
      "text/plain": [
       "'\\nanhiaah  a,,o aoia\\niW,ana heBhahio ahahaahaohoahiaahaaa  ahiataaih,ei,aiaohot2e, aia ahEinho,hoeAao o  eoiatenhehhai ioaaaheeo hhaa?ohjee,?h,2W?hai hhaioyoioYoh?oah.hh o,e,Ooehx aaoahahhepaixannaohiae'"
      ]
     },
     "execution_count": 28,
     "metadata": {},
     "output_type": "execute_result"
    }
   ],
   "source": [
    "# inference\n",
    "zero_context = torch.zeros((batch_size,1))\n",
    "model.generate_to_text(zero_context, max_new_tokens=200)"
   ]
  },
  {
   "cell_type": "code",
   "execution_count": null,
   "id": "f08472cc",
   "metadata": {},
   "outputs": [],
   "source": []
  },
  {
   "cell_type": "code",
   "execution_count": null,
   "id": "c3b9344c",
   "metadata": {},
   "outputs": [],
   "source": []
  },
  {
   "cell_type": "code",
   "execution_count": null,
   "id": "bca4650f",
   "metadata": {},
   "outputs": [],
   "source": []
  },
  {
   "cell_type": "code",
   "execution_count": null,
   "id": "84918d07",
   "metadata": {},
   "outputs": [],
   "source": []
  },
  {
   "cell_type": "code",
   "execution_count": null,
   "id": "710a09dd",
   "metadata": {},
   "outputs": [],
   "source": []
  },
  {
   "cell_type": "code",
   "execution_count": null,
   "id": "68e37b8c",
   "metadata": {},
   "outputs": [],
   "source": []
  },
  {
   "cell_type": "markdown",
   "id": "d734efb2",
   "metadata": {},
   "source": [
    "### Attention"
   ]
  },
  {
   "cell_type": "code",
   "execution_count": 29,
   "id": "25a1db62",
   "metadata": {},
   "outputs": [
    {
     "data": {
      "text/plain": [
       "(tensor([[0.5499],\n",
       "         [0.5899],\n",
       "         [0.8726],\n",
       "         [0.8996],\n",
       "         [0.7301]]),\n",
       " tensor([[0.4520],\n",
       "         [0.8163],\n",
       "         [0.5874],\n",
       "         [0.7089],\n",
       "         [0.1228]]),\n",
       " tensor([[0.8152],\n",
       "         [0.7577],\n",
       "         [0.0832],\n",
       "         [0.2580],\n",
       "         [0.2888]]))"
      ]
     },
     "execution_count": 29,
     "metadata": {},
     "output_type": "execute_result"
    }
   ],
   "source": [
    "Q = torch.rand(5,1)\n",
    "K = torch.rand(5,1)\n",
    "V = torch.rand(5,1)\n",
    "Q,K,V"
   ]
  },
  {
   "cell_type": "code",
   "execution_count": 30,
   "id": "313ff056",
   "metadata": {},
   "outputs": [],
   "source": [
    "def attention(Q,K,V):\n",
    "    \"\"\" \n",
    "    Applies masked scaled dot-product attention\n",
    "    between vectors of queries Q, keys K and values V. \n",
    "    \"\"\"\n",
    "    d_k = torch.tensor(Q.shape[0])\n",
    "    W = (Q @ K.T) / torch.sqrt(d_k)\n",
    "    \n",
    "    # mask out forbidden connections\n",
    "    tril = torch.tril(torch.ones((d_k, d_k)))\n",
    "    W = W.masked_fill(tril==0, float(\"-inf\"))\n",
    "    \n",
    "    W = F.softmax(W, dim=1)\n",
    "    \n",
    "    return W @ V"
   ]
  },
  {
   "cell_type": "code",
   "execution_count": 31,
   "id": "fd85a01f",
   "metadata": {},
   "outputs": [
    {
     "data": {
      "text/plain": [
       "tensor([[0.8152],\n",
       "        [0.7851],\n",
       "        [0.5539],\n",
       "        [0.4780],\n",
       "        [0.4451]])"
      ]
     },
     "execution_count": 31,
     "metadata": {},
     "output_type": "execute_result"
    }
   ],
   "source": [
    "attention(Q,K,V)"
   ]
  },
  {
   "cell_type": "markdown",
   "id": "c6aa6afc",
   "metadata": {},
   "source": [
    "### Multi-Head Attention"
   ]
  },
  {
   "cell_type": "code",
   "execution_count": 32,
   "id": "cb2974bf",
   "metadata": {},
   "outputs": [],
   "source": [
    "def multi_head_attention(Q,K,V):\n",
    "    d_k = torch.tensor(Q.shape[0])\n",
    "    d_model = 8 # project in to this space\n",
    "    N_heads = 2\n",
    "    \n",
    "    # linear layers\n",
    "    projections = {\n",
    "        x: {\n",
    "            h: nn.Linear(d_k, d_model, bias=False) for h in range(N_heads)\n",
    "        } for x in [\"Q\", \"K\", \"V\"]\n",
    "    }\n",
    "    \n",
    "    # layer to combine the concatenated attention-block output vectors\n",
    "    top_layer = nn.Linear(N_heads * d_model, d_k, bias=False)\n",
    "    \n",
    "    # forward pass\n",
    "    result = torch.zeros(N_heads, d_model, 1)\n",
    "\n",
    "    for h in range(N_heads):\n",
    "        result[h] = attention(\n",
    "            projections[\"Q\"][h](Q.T).T,\n",
    "            projections[\"K\"][h](K.T).T,\n",
    "            projections[\"V\"][h](V.T).T\n",
    "        )\n",
    "    \n",
    "    concat_attn_out = result.view(1, N_heads * d_model)\n",
    "    return top_layer(concat_attn_out).T"
   ]
  },
  {
   "cell_type": "code",
   "execution_count": 33,
   "id": "a02622e0",
   "metadata": {},
   "outputs": [
    {
     "data": {
      "text/plain": [
       "tensor([[-0.0503],\n",
       "        [ 0.0417],\n",
       "        [ 0.0317],\n",
       "        [ 0.0227],\n",
       "        [-0.0685]], grad_fn=<PermuteBackward0>)"
      ]
     },
     "execution_count": 33,
     "metadata": {},
     "output_type": "execute_result"
    }
   ],
   "source": [
    "multi_head_attention(Q,K,V)"
   ]
  },
  {
   "cell_type": "code",
   "execution_count": 34,
   "id": "9c1dcadf",
   "metadata": {},
   "outputs": [
    {
     "data": {
      "text/plain": [
       "{'Q': {0: Linear(in_features=5, out_features=8, bias=False),\n",
       "  1: Linear(in_features=5, out_features=8, bias=False)},\n",
       " 'K': {0: Linear(in_features=5, out_features=8, bias=False),\n",
       "  1: Linear(in_features=5, out_features=8, bias=False)},\n",
       " 'V': {0: Linear(in_features=5, out_features=8, bias=False),\n",
       "  1: Linear(in_features=5, out_features=8, bias=False)}}"
      ]
     },
     "execution_count": 34,
     "metadata": {},
     "output_type": "execute_result"
    }
   ],
   "source": [
    "d_k = torch.tensor(Q.shape[0])\n",
    "d_model = 8 # project in to this space\n",
    "N_heads = 2\n",
    "\n",
    "projections = {\n",
    "    x: {\n",
    "        h: nn.Linear(d_k, d_model, bias=False) for h in range(N_heads)\n",
    "    } for x in [\"Q\", \"K\", \"V\"]\n",
    "}\n",
    "\n",
    "projections"
   ]
  },
  {
   "cell_type": "code",
   "execution_count": 35,
   "id": "887ed9db",
   "metadata": {},
   "outputs": [
    {
     "data": {
      "text/plain": [
       "tensor([[-0.1686],\n",
       "        [-0.4816],\n",
       "        [ 0.1033],\n",
       "        [-0.3457],\n",
       "        [-0.7313],\n",
       "        [-0.2949],\n",
       "        [ 0.2788],\n",
       "        [ 0.2492]], grad_fn=<PermuteBackward0>)"
      ]
     },
     "execution_count": 35,
     "metadata": {},
     "output_type": "execute_result"
    }
   ],
   "source": [
    "projections[\"Q\"][0](Q.T).T"
   ]
  },
  {
   "cell_type": "code",
   "execution_count": 36,
   "id": "34155394",
   "metadata": {},
   "outputs": [
    {
     "data": {
      "text/plain": [
       "tensor([[0.8152],\n",
       "        [0.7851],\n",
       "        [0.5539],\n",
       "        [0.4780],\n",
       "        [0.4451]])"
      ]
     },
     "execution_count": 36,
     "metadata": {},
     "output_type": "execute_result"
    }
   ],
   "source": [
    "attention(Q,K,V)"
   ]
  },
  {
   "cell_type": "code",
   "execution_count": 37,
   "id": "47c6e8e2",
   "metadata": {},
   "outputs": [],
   "source": [
    "result = torch.zeros(N_heads, d_model, 1)\n",
    "\n",
    "for h in range(N_heads):\n",
    "    result[h] = attention(\n",
    "        projections[\"Q\"][h](Q.T).T,\n",
    "        projections[\"K\"][h](K.T).T,\n",
    "        projections[\"V\"][h](V.T).T\n",
    "    )"
   ]
  },
  {
   "cell_type": "code",
   "execution_count": 38,
   "id": "bbea706c",
   "metadata": {},
   "outputs": [
    {
     "data": {
      "text/plain": [
       "tensor([[[-0.2149],\n",
       "         [-0.0779],\n",
       "         [-0.1218],\n",
       "         [-0.0631],\n",
       "         [ 0.0309],\n",
       "         [ 0.0585],\n",
       "         [ 0.0468],\n",
       "         [ 0.0262]],\n",
       "\n",
       "        [[ 0.2127],\n",
       "         [ 0.1708],\n",
       "         [-0.0117],\n",
       "         [ 0.0307],\n",
       "         [-0.0344],\n",
       "         [-0.0028],\n",
       "         [ 0.0865],\n",
       "         [ 0.1064]]], grad_fn=<CopySlices>)"
      ]
     },
     "execution_count": 38,
     "metadata": {},
     "output_type": "execute_result"
    }
   ],
   "source": [
    "result"
   ]
  },
  {
   "cell_type": "code",
   "execution_count": 39,
   "id": "6acea947",
   "metadata": {},
   "outputs": [
    {
     "data": {
      "text/plain": [
       "tensor([[-0.2149, -0.0779, -0.1218, -0.0631,  0.0309,  0.0585,  0.0468,  0.0262,\n",
       "          0.2127,  0.1708, -0.0117,  0.0307, -0.0344, -0.0028,  0.0865,  0.1064]],\n",
       "       grad_fn=<ViewBackward0>)"
      ]
     },
     "execution_count": 39,
     "metadata": {},
     "output_type": "execute_result"
    }
   ],
   "source": [
    "concat_attn_out = result.view(1, N_heads * d_model)\n",
    "concat_attn_out"
   ]
  },
  {
   "cell_type": "code",
   "execution_count": null,
   "id": "b814be6b",
   "metadata": {},
   "outputs": [],
   "source": []
  },
  {
   "cell_type": "code",
   "execution_count": 40,
   "id": "283f5c76",
   "metadata": {},
   "outputs": [],
   "source": [
    "top_layer = nn.Linear(N_heads * d_model, d_k, bias=False)"
   ]
  },
  {
   "cell_type": "code",
   "execution_count": 41,
   "id": "18372fed",
   "metadata": {},
   "outputs": [
    {
     "data": {
      "text/plain": [
       "torch.Size([5, 1])"
      ]
     },
     "execution_count": 41,
     "metadata": {},
     "output_type": "execute_result"
    }
   ],
   "source": [
    "top_layer(concat_attn_out).T.shape"
   ]
  },
  {
   "cell_type": "markdown",
   "id": "5a6cb416",
   "metadata": {},
   "source": [
    "### Masking"
   ]
  },
  {
   "cell_type": "code",
   "execution_count": 42,
   "id": "8850598b",
   "metadata": {},
   "outputs": [
    {
     "data": {
      "text/plain": [
       "tensor([[1., 0., 0., 0., 0., 0., 0., 0., 0., 0.],\n",
       "        [1., 1., 0., 0., 0., 0., 0., 0., 0., 0.],\n",
       "        [1., 1., 1., 0., 0., 0., 0., 0., 0., 0.],\n",
       "        [1., 1., 1., 1., 0., 0., 0., 0., 0., 0.],\n",
       "        [1., 1., 1., 1., 1., 0., 0., 0., 0., 0.],\n",
       "        [1., 1., 1., 1., 1., 1., 0., 0., 0., 0.],\n",
       "        [1., 1., 1., 1., 1., 1., 1., 0., 0., 0.],\n",
       "        [1., 1., 1., 1., 1., 1., 1., 1., 0., 0.],\n",
       "        [1., 1., 1., 1., 1., 1., 1., 1., 1., 0.],\n",
       "        [1., 1., 1., 1., 1., 1., 1., 1., 1., 1.]])"
      ]
     },
     "execution_count": 42,
     "metadata": {},
     "output_type": "execute_result"
    }
   ],
   "source": [
    "T = 10\n",
    "tril = torch.tril(torch.ones((T,T)))\n",
    "tril"
   ]
  },
  {
   "cell_type": "code",
   "execution_count": 43,
   "id": "74f2f9ba",
   "metadata": {},
   "outputs": [
    {
     "data": {
      "text/plain": [
       "<matplotlib.image.AxesImage at 0x7fdd50625d80>"
      ]
     },
     "execution_count": 43,
     "metadata": {},
     "output_type": "execute_result"
    },
    {
     "data": {
      "image/png": "[encoded data removed]",
      "text/plain": [
       "<Figure size 640x480 with 1 Axes>"
      ]
     },
     "metadata": {},
     "output_type": "display_data"
    }
   ],
   "source": [
    "W = torch.rand((T,T)) # there will be real data here\n",
    "\n",
    "# mask out forbidden connections\n",
    "W = W.masked_fill(tril==0, float(\"-inf\")) # set everywhere where tril is 0 to -inf (upper right)\n",
    "\n",
    "W = F.softmax(W, dim=-1)\n",
    "plt.imshow(W)"
   ]
  },
  {
   "cell_type": "markdown",
   "id": "1f9403cc",
   "metadata": {},
   "source": [
    "### Positional encoding"
   ]
  },
  {
   "cell_type": "markdown",
   "id": "b6f845ed",
   "metadata": {},
   "source": [
    "- learned"
   ]
  },
  {
   "cell_type": "markdown",
   "id": "134c4b72",
   "metadata": {},
   "source": [
    "### Transformer"
   ]
  },
  {
   "cell_type": "code",
   "execution_count": null,
   "id": "9f44fb82",
   "metadata": {},
   "outputs": [],
   "source": []
  },
  {
   "cell_type": "code",
   "execution_count": null,
   "id": "75ff2014",
   "metadata": {},
   "outputs": [],
   "source": []
  },
  {
   "cell_type": "code",
   "execution_count": null,
   "id": "66653e1f",
   "metadata": {},
   "outputs": [],
   "source": []
  },
  {
   "cell_type": "code",
   "execution_count": 151,
   "id": "fddc8df6",
   "metadata": {},
   "outputs": [
    {
     "data": {
      "text/plain": [
       "BigramLanguageModel(\n",
       "  (token_embedding_table): Embedding(62, 100)\n",
       "  (pos_embedding_table): Embedding(8, 100)\n",
       "  (lm_head): Linear(in_features=100, out_features=62, bias=True)\n",
       ")"
      ]
     },
     "execution_count": 151,
     "metadata": {},
     "output_type": "execute_result"
    }
   ],
   "source": [
    "# hyperparameters\n",
    "embed_dims = 100\n",
    "block_size = 8\n",
    "batch_size = 32\n",
    "\n",
    "\n",
    "class BigramLanguageModel(nn.Module):\n",
    "    \n",
    "    def __init__(self, vocab_size):\n",
    "        super().__init__()\n",
    "        self.token_embedding_table = nn.Embedding(vocab_size, embed_dims)\n",
    "        \n",
    "        # positional encoding\n",
    "        self.pos_embedding_table = nn.Embedding(block_size, embed_dims)\n",
    "        \n",
    "        # output layers\n",
    "        self.lm_head = nn.Linear(embed_dims, vocab_size)\n",
    "        \n",
    "    \n",
    "    def forward(self, context, targets):\n",
    "        \n",
    "        B, T = context.shape\n",
    "        \n",
    "        # get the embedding vectors word-to-vec style\n",
    "        token_emb = self.token_embedding_table(context) # (Batch, Time, Channels) ==> [4, 8, 62]\n",
    "        \n",
    "        # add the positional embedding\n",
    "        pos_emb = self.pos_embedding_table(torch.arange(T)) # (T,C)\n",
    "        \n",
    "        x = token_emb + pos_emb\n",
    "\n",
    "        # transformer stuff\n",
    "        \n",
    "        # output layers\n",
    "        logits = self.lm_head(x)        \n",
    "        \n",
    "        \n",
    "        B, T, C = logits.shape\n",
    "        logits = logits.view(B*T,C) # [32,64]\n",
    "        targets = targets.view(B*T) # [32]\n",
    "        loss = F.cross_entropy(logits, targets)\n",
    "        \n",
    "        return logits, loss\n",
    "\n",
    "    def generate(self, context, max_new_tokens):\n",
    "        \n",
    "        \n",
    "        # context: (Batch, Time) ==> [4, 8]\n",
    "        # -> extend context in Time dimension for max_new_tokens\n",
    "        \n",
    "        for _ in range(max_new_tokens):\n",
    "            \n",
    "            # get prediction\n",
    "            logits, loss = self(xb, yb)\n",
    "            \n",
    "            # get logits for the last character \n",
    "            # (because we only need the last char to predict with our bigram model)\n",
    "            logits = logits.view(batch_size,-1,vocab_size) # (B,T,C)\n",
    "            logits = logits[:, -1, :] # (B,C) for only the last character\n",
    "            \n",
    "            probs = F.softmax(logits, dim=-1) # (B,C)\n",
    "            next_token = torch.multinomial(probs, num_samples=1) # (B,1)\n",
    "            \n",
    "            # append next token to the sequence\n",
    "            context = torch.cat((context, next_token), dim=1) # (B,T+1)\n",
    "        \n",
    "        return context\n",
    "    \n",
    "    def generate_to_text(self, context, max_new_tokens):\n",
    "        context = self.generate(context, max_new_tokens)\n",
    "        return decode(context[0].tolist())\n",
    "\n",
    "model = BigramLanguageModel(vocab_size)\n",
    "model"
   ]
  },
  {
   "cell_type": "code",
   "execution_count": 152,
   "id": "874b1227",
   "metadata": {},
   "outputs": [],
   "source": [
    "losses = []\n",
    "\n",
    "optimizer = torch.optim.Adam(model.parameters(), lr=1e-3)\n",
    "\n",
    "for step in range(5000):\n",
    "    \n",
    "    # get a batch\n",
    "    xb, yb = get_batch(train_data)\n",
    "    \n",
    "    # predict and get loss\n",
    "    logits, loss = model(xb, yb)\n",
    "    \n",
    "    optimizer.zero_grad(set_to_none=True)\n",
    "    loss.backward()\n",
    "    optimizer.step()\n",
    "    \n",
    "    losses.append(loss.item())"
   ]
  },
  {
   "cell_type": "code",
   "execution_count": 154,
   "id": "a823477c",
   "metadata": {},
   "outputs": [
    {
     "data": {
      "text/plain": [
       "[<matplotlib.lines.Line2D at 0x7fdd3c2dcb80>]"
      ]
     },
     "execution_count": 154,
     "metadata": {},
     "output_type": "execute_result"
    },
    {
     "data": {
      "image/png": "[encoded data removed]",
      "text/plain": [
       "<Figure size 640x480 with 1 Axes>"
      ]
     },
     "metadata": {},
     "output_type": "display_data"
    }
   ],
   "source": [
    "plt.plot(losses)"
   ]
  },
  {
   "cell_type": "code",
   "execution_count": 155,
   "id": "ea803a5c",
   "metadata": {},
   "outputs": [
    {
     "data": {
      "text/plain": [
       "\"\\n    ., o\\n o so,oi os \\no\\n 's .  , o    ood  ,  ,o  v . s\\n.,ob, ,bol     ,, lo     ,    b, ,opo ,ob   o s oo ,.,  s, ,\\n , ?\\no,  o .bo , os o  l so lsooo o  o   lo. ,o l,o ob,o , ,,os,ooo    ' ,.o  o  oo\""
      ]
     },
     "execution_count": 155,
     "metadata": {},
     "output_type": "execute_result"
    }
   ],
   "source": [
    "# inference\n",
    "zero_context = torch.zeros((batch_size,1))\n",
    "model.generate_to_text(zero_context, max_new_tokens=200)"
   ]
  },
  {
   "cell_type": "code",
   "execution_count": null,
   "id": "3e9bc2f4",
   "metadata": {},
   "outputs": [],
   "source": []
  }
 ],
 "metadata": {
  "kernelspec": {
   "display_name": "Python 3 (ipykernel)",
   "language": "python",
   "name": "python3"
  },
  "language_info": {
   "codemirror_mode": {
    "name": "ipython",
    "version": 3
   },
   "file_extension": ".py",
   "mimetype": "text/x-python",
   "name": "python",
   "nbconvert_exporter": "python",
   "pygments_lexer": "ipython3",
   "version": "3.10.4"
  }
 },
 "nbformat": 4,
 "nbformat_minor": 5
}
