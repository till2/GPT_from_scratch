{
 "cells": [
  {
   "cell_type": "code",
   "execution_count": 1,
   "id": "6fa94449",
   "metadata": {},
   "outputs": [
    {
     "data": {
      "text/plain": [
       "<torch._C.Generator at 0x7f6f65ec3150>"
      ]
     },
     "execution_count": 1,
     "metadata": {},
     "output_type": "execute_result"
    }
   ],
   "source": [
    "from __future__ import annotations\n",
    "import typing\n",
    "\n",
    "import numpy as np\n",
    "import matplotlib.pyplot as plt\n",
    "\n",
    "import torch\n",
    "import torch.nn as nn\n",
    "import torch.nn.functional as F\n",
    "\n",
    "import os\n",
    "from tqdm import tqdm\n",
    "\n",
    "torch.manual_seed(3654)"
   ]
  },
  {
   "cell_type": "code",
   "execution_count": 2,
   "id": "b20532c9",
   "metadata": {},
   "outputs": [
    {
     "data": {
      "text/plain": [
       "'cuda'"
      ]
     },
     "execution_count": 2,
     "metadata": {},
     "output_type": "execute_result"
    }
   ],
   "source": [
    "device = \"cuda\" if torch.cuda.is_available() else \"cpu\"\n",
    "device"
   ]
  },
  {
   "cell_type": "code",
   "execution_count": 3,
   "id": "0e1c6932",
   "metadata": {},
   "outputs": [],
   "source": [
    "def count_trainable_parameters(model):\n",
    "    return sum(p.numel() for p in model.parameters() if p.requires_grad)"
   ]
  },
  {
   "cell_type": "markdown",
   "id": "dd8e1971",
   "metadata": {},
   "source": [
    "### Get text data"
   ]
  },
  {
   "cell_type": "code",
   "execution_count": 4,
   "id": "6e97ce57",
   "metadata": {},
   "outputs": [],
   "source": [
    "with open(\"data/text_corpus.txt\", encoding=\"utf-8\") as f:\n",
    "    text = f.read()"
   ]
  },
  {
   "cell_type": "code",
   "execution_count": 5,
   "id": "c9f718ee",
   "metadata": {},
   "outputs": [
    {
     "data": {
      "text/plain": [
       "38739496"
      ]
     },
     "execution_count": 5,
     "metadata": {},
     "output_type": "execute_result"
    }
   ],
   "source": [
    "len(text)"
   ]
  },
  {
   "cell_type": "code",
   "execution_count": 6,
   "id": "69fe4d69",
   "metadata": {},
   "outputs": [
    {
     "data": {
      "text/plain": [
       "\"his was the most important patient in the country, maybe in the history of the country,\\n and we bled him to death trying to help him. So when you're actually inflating the money supply\\n at 7% but you're calling it 2% because you want to help the economy, y\""
      ]
     },
     "execution_count": 6,
     "metadata": {},
     "output_type": "execute_result"
    }
   ],
   "source": [
    "text[100:356]"
   ]
  },
  {
   "cell_type": "code",
   "execution_count": 7,
   "id": "b6ff1d38",
   "metadata": {},
   "outputs": [
    {
     "name": "stdout",
     "output_type": "stream",
     "text": [
      "['\\n', ' ', '!', '\"', '$', '%', '&', \"'\", '+', ',', '-', '.', '0', '1', '2', '3', '4', '5', '6', '7', '8', '9', ':', '>', '?', 'A', 'B', 'C', 'D', 'E', 'F', 'G', 'H', 'I', 'J', 'K', 'L', 'M', 'N', 'O', 'P', 'Q', 'R', 'S', 'T', 'U', 'V', 'W', 'X', 'Y', 'Z', '[', ']', 'a', 'b', 'c', 'd', 'e', 'f', 'g', 'h', 'i', 'j', 'k', 'l', 'm', 'n', 'o', 'p', 'q', 'r', 's', 't', 'u', 'v', 'w', 'x', 'y', 'z', '´', 'É', 'Ö', 'Ü', 'á', 'ã', 'å', 'ç', 'è', 'é', 'ê', 'í', 'ó', 'ô', 'ö', 'ø', 'ù', 'ü', 'ć', 'ł', 'ő', 'Б', 'В', 'Г', 'Д', 'К', 'Н', 'П', 'Р', 'С', 'Т', 'У', 'Я', 'а', 'б', 'в', 'г', 'д', 'е', 'ж', 'з', 'и', 'й', 'к', 'л', 'м', 'н', 'о', 'п', 'р', 'с', 'т', 'у', 'х', 'ц', 'ч', 'ш', 'щ', 'ъ', 'ы', 'ь', 'э', 'ю', 'я', 'ё', '–', '—', '…', '가', '들', '어']\n"
     ]
    }
   ],
   "source": [
    "vocab = sorted(set(text))\n",
    "print(vocab)"
   ]
  },
  {
   "cell_type": "code",
   "execution_count": 8,
   "id": "6ea75fec",
   "metadata": {},
   "outputs": [
    {
     "data": {
      "text/plain": [
       "150"
      ]
     },
     "execution_count": 8,
     "metadata": {},
     "output_type": "execute_result"
    }
   ],
   "source": [
    "vocab_size = len(vocab)\n",
    "vocab_size"
   ]
  },
  {
   "cell_type": "markdown",
   "id": "09f90281",
   "metadata": {},
   "source": [
    "### Map characters to integers"
   ]
  },
  {
   "cell_type": "code",
   "execution_count": 9,
   "id": "f56c27f8",
   "metadata": {},
   "outputs": [],
   "source": [
    "# Create encoder and decoder dicts\n",
    "\n",
    "char_int_mapping = dict()\n",
    "int_char_mapping = dict()\n",
    "\n",
    "for i, c in enumerate(sorted(set(text))):\n",
    "    char_int_mapping[c] = i\n",
    "    int_char_mapping[i] = c"
   ]
  },
  {
   "cell_type": "code",
   "execution_count": 10,
   "id": "56852e0a",
   "metadata": {},
   "outputs": [],
   "source": [
    "def encode(string: str) -> List[int]:\n",
    "    int_list = [char_int_mapping[char] for char in string]\n",
    "    result = torch.tensor(int_list, dtype=torch.long, device=device)\n",
    "    return result\n",
    "\n",
    "def decode(data:torch.tensor) -> str:\n",
    "    string = [int_char_mapping[num] for num in data.tolist()]\n",
    "    return \"\".join(string)"
   ]
  },
  {
   "cell_type": "markdown",
   "id": "278b0040",
   "metadata": {},
   "source": [
    "### Encode the text"
   ]
  },
  {
   "cell_type": "code",
   "execution_count": 11,
   "id": "1d7650c4",
   "metadata": {},
   "outputs": [
    {
     "data": {
      "text/plain": [
       "torch.Size([38739496])"
      ]
     },
     "execution_count": 11,
     "metadata": {},
     "output_type": "execute_result"
    }
   ],
   "source": [
    "# data = encode(text)\n",
    "# data.shape\n",
    "\n",
    "train_data = encode(text)\n",
    "train_data.shape"
   ]
  },
  {
   "cell_type": "markdown",
   "id": "222f0765",
   "metadata": {},
   "source": [
    "### Train/Test split"
   ]
  },
  {
   "cell_type": "code",
   "execution_count": 12,
   "id": "8ffb6c69",
   "metadata": {},
   "outputs": [],
   "source": [
    "# N = int(0.9*len(data))\n",
    "# train_data = data[:N]\n",
    "# test_data = data[N:]\n",
    "# \n",
    "# print(len(train_data), len(test_data))"
   ]
  },
  {
   "cell_type": "markdown",
   "id": "b72f353e",
   "metadata": {},
   "source": [
    "### Create minibatches"
   ]
  },
  {
   "cell_type": "code",
   "execution_count": 13,
   "id": "032acc34",
   "metadata": {},
   "outputs": [],
   "source": [
    "def get_batch(split: torch.tensor):\n",
    "    offsets = np.random.randint(0, len(split) - block_size, size=batch_size)\n",
    "    x = torch.stack([split[i:i+block_size] for i in offsets]).to(device)\n",
    "    y = torch.stack([split[i+1:i+block_size+1] for i in offsets]).to(device)\n",
    "    return x, y"
   ]
  },
  {
   "cell_type": "markdown",
   "id": "134c4b72",
   "metadata": {},
   "source": [
    "### Build the Transformer"
   ]
  },
  {
   "cell_type": "code",
   "execution_count": 48,
   "id": "6ffa661d",
   "metadata": {},
   "outputs": [],
   "source": [
    "# hyperparameters\n",
    "training_steps = 5_000\n",
    "n_layers = 24\n",
    "embed_dims = 512 # is equivalent to d_model\n",
    "block_size = 256\n",
    "batch_size = 50\n",
    "n_heads = 16\n",
    "dropout = 0.4\n",
    "head_size = embed_dims // n_heads\n",
    "\n",
    "assert head_size * n_heads == embed_dims"
   ]
  },
  {
   "cell_type": "code",
   "execution_count": 22,
   "id": "c0ca7e1b",
   "metadata": {},
   "outputs": [],
   "source": [
    "class SelfAttentionHead(nn.Module):\n",
    "    \n",
    "    def __init__(self):\n",
    "        super().__init__()\n",
    "        self.proj_q = nn.Linear(embed_dims, head_size, bias=False)\n",
    "        self.proj_k = nn.Linear(embed_dims, head_size, bias=False)\n",
    "        self.proj_v = nn.Linear(embed_dims, head_size, bias=False)\n",
    "        self.dropout = nn.Dropout(dropout)\n",
    "    \n",
    "    def forward(self, x):\n",
    "        \"\"\" \n",
    "        Applies masked scaled dot-product attention\n",
    "        between vectors of queries Q, keys K and values V. \n",
    "        \"\"\"\n",
    "        B,T,C = x.shape\n",
    "        \n",
    "        Q = self.proj_q(x)\n",
    "        K = self.proj_k(x)\n",
    "        V = self.proj_v(x)\n",
    "\n",
    "        W = (Q @ K.transpose(-1,-2)) # (B, T, C) @ (B, C, T) ==> (B,T,T)\n",
    "        W /= torch.sqrt(torch.tensor(head_size))\n",
    "        \n",
    "        # mask out forbidden connections\n",
    "        tril = torch.tril(torch.ones((block_size, block_size), device=device))\n",
    "        W = W.masked_fill(tril[:T, :T]==0, float(\"-inf\")) # make smaller so it fits if context < block_size\n",
    "        W = F.softmax(W, dim=1)\n",
    "        W = self.dropout(W)\n",
    "        \n",
    "        out = W @ V\n",
    "        return out # (B,T,C=head_size)"
   ]
  },
  {
   "cell_type": "code",
   "execution_count": 23,
   "id": "9f44fb82",
   "metadata": {},
   "outputs": [],
   "source": [
    "class MultiHeadAttention(nn.Module):\n",
    "    \n",
    "    def __init__(self):\n",
    "        super().__init__()\n",
    "16x\n",
    "        self.heads = nn.ModuleList([SelfAttentionHead() for i in range(n_heads)])\n",
    "        self.proj = nn.Linear(embed_dims, embed_dims, bias=False) # embed_dims = n_heads * head_size\n",
    "        self.dropout = nn.Dropout(dropout)\n",
    "    \n",
    "    def forward(self, x):\n",
    "        \n",
    "        out = torch.cat([attn_head(x) for attn_head in self.heads], dim=-1)\n",
    "        out = self.dropout(self.proj(out))\n",
    "        return out"
   ]
  },
  {
   "cell_type": "code",
   "execution_count": 24,
   "id": "74f2907c",
   "metadata": {},
   "outputs": [],
   "source": [
    "class Block(nn.Module):\n",
    "    \n",
    "    def __init__(self):\n",
    "        super().__init__()\n",
    "        self.attn = MultiHeadAttention()\n",
    "        self.ln1 = nn.LayerNorm(embed_dims)\n",
    "        self.ln2 = nn.LayerNorm(embed_dims)\n",
    "        \n",
    "        self.mlp = nn.Sequential(\n",
    "            nn.Linear(embed_dims, 4*embed_dims), # following attention-is-all-you-need paper for num hidden units\n",
    "            nn.ReLU(),\n",
    "            nn.Linear(4*embed_dims, embed_dims),\n",
    "            nn.Dropout(dropout),\n",
    "        )\n",
    "    \n",
    "    def forward(self, x):\n",
    "        \n",
    "        # Applies layernorm before self-attention.\n",
    "        # In the attention-is-all-you-need paper they apply it afterwards, \n",
    "        # but apparently pre-ln performs better. pre-ln paper: https://arxiv.org/pdf/2002.04745.pdf\n",
    "        \n",
    "        x = x + self.attn(self.ln1(x)) # (B,embed_dims)\n",
    "        x = x + self.mlp(self.ln2(x))\n",
    "        return x"
   ]
  },
  {
   "cell_type": "code",
   "execution_count": 163,
   "id": "fddc8df6",
   "metadata": {},
   "outputs": [],
   "source": [
    "class TransformerLanguageModel(nn.Module):\n",
    "    \n",
    "    def __init__(self):\n",
    "        super().__init__()\n",
    "        self.token_embedding_table = nn.Embedding(vocab_size, embed_dims)\n",
    "        \n",
    "        # positional encoding\n",
    "        self.pos_embedding_table = nn.Embedding(block_size, embed_dims)\n",
    "        \n",
    "        # transformer layers\n",
    "        # self.multihead_attn1 = MultiHeadAttention()\n",
    "        # self.block1 = Block()\n",
    "        self.blocks = nn.Sequential(*[Block() for i in range(n_layers)])\n",
    "        \n",
    "        # output layers\n",
    "        self.lm_head = nn.Linear(embed_dims, vocab_size)\n",
    "        \n",
    "    \n",
    "    def forward(self, context, targets=None):\n",
    "        \n",
    "        B, T = context.shape\n",
    "        \n",
    "        # get the embedding vectors word-to-vec style\n",
    "        token_emb = self.token_embedding_table(context) # (Batch, Time, Channels) ==> [4, 8, 62]\n",
    "        \n",
    "        # add the positional embedding'\n",
    "        pos_emb = self.pos_embedding_table(torch.arange(T, device=device)) # (T,C)\n",
    "        \n",
    "        x = token_emb + pos_emb\n",
    "\n",
    "        # transformer forward pass\n",
    "        x = self.blocks(x)\n",
    "\n",
    "        # output layers\n",
    "        logits = self.lm_head(x)        \n",
    "        \n",
    "        if targets is None:\n",
    "            loss = None\n",
    "        else:\n",
    "            B, T, C = logits.shape\n",
    "            logits = logits.view(B*T,C) # [32,64]\n",
    "            targets = targets.view(B*T) # [32]\n",
    "            loss = F.cross_entropy(logits, targets)\n",
    "        \n",
    "        return logits, loss\n",
    "\n",
    "    def generate(self, context, max_new_tokens, topk=3):\n",
    "        if topk <= 1:\n",
    "            raise Exception(\"topk should be >= 2.\")\n",
    "        B, T = context.shape\n",
    "        \n",
    "        # context: (Batch, Time) ==> [4, 8]\n",
    "        # -> extend context in Time dimension for max_new_tokens\n",
    "        \n",
    "        for _ in range(max_new_tokens):\n",
    "            \n",
    "            # get prediction\n",
    "            # logits, loss = self(xb, yb)\n",
    "            logits, loss = self(context[:,-block_size:])\n",
    "            \n",
    "            # get logits for the last character (for the next token)\n",
    "            logits = logits.view(B,-1,vocab_size) # (B,T,C)\n",
    "            logits = logits[:, -1, :] # (B,C) for only the last character\n",
    "            \n",
    "            if np.random.rand() < 0.8:\n",
    "            \n",
    "                # top-k sampling\n",
    "                topk_logits, topk_vals = torch.topk(logits, topk)\n",
    "                topk_vals = topk_vals.squeeze()\n",
    "                \n",
    "                probs = F.softmax(topk_logits, dim=-1)\n",
    "                idx = torch.multinomial(probs, num_samples=1).item()\n",
    "                next_token = topk_vals[idx]\n",
    "                next_token = next_token.view(1,1)\n",
    "            \n",
    "            else:\n",
    "                \n",
    "                # sample from entire distribution\n",
    "                probs = F.softmax(logits, dim=-1)\n",
    "                next_token = torch.multinomial(probs, num_samples=1)\n",
    "            \n",
    "            \n",
    "            # append next token to the sequence\n",
    "            context = torch.cat((context, next_token), dim=1) # (B,T+1)\n",
    "        \n",
    "        return context\n",
    "    \n",
    "    def generate_to_text(self, context, max_new_tokens, topk=3):\n",
    "        context = self.generate(context, max_new_tokens, topk)\n",
    "        return decode(context[0])\n",
    "\n",
    "# model = TransformerLanguageModel().to(device)"
   ]
  },
  {
   "cell_type": "code",
   "execution_count": 164,
   "id": "efd3ffc0",
   "metadata": {},
   "outputs": [
    {
     "data": {
      "text/plain": [
       "<All keys matched successfully>"
      ]
     },
     "execution_count": 164,
     "metadata": {},
     "output_type": "execute_result"
    }
   ],
   "source": [
    "model = TransformerLanguageModel().to(device)\n",
    "checkpoint = torch.load('weights/0.006695.weights')\n",
    "model.load_state_dict(checkpoint[\"model_state_dict\"])"
   ]
  },
  {
   "cell_type": "code",
   "execution_count": 165,
   "id": "874b1227",
   "metadata": {},
   "outputs": [],
   "source": [
    "train = False\n",
    "\n",
    "if train:\n",
    "    model.train()\n",
    "    optimizer = torch.optim.Adam(model.parameters(), lr=1e-4)\n",
    "    losses = []\n",
    "    \n",
    "    for step in tqdm(range(training_steps)):\n",
    "        \n",
    "        # get a batch\n",
    "        xb, yb = get_batch(train_data)\n",
    "        \n",
    "        # predict and get loss\n",
    "        logits, loss = model(xb, yb)\n",
    "        \n",
    "        optimizer.zero_grad(set_to_none=True)\n",
    "        loss.backward()\n",
    "        optimizer.step()\n",
    "        \n",
    "        losses.append(loss.item())\n",
    "    \n",
    "        if step % 500 == 0 or step == training_steps-1:\n",
    "            if not os.path.exists(\"weights/small_dataset\"):\n",
    "                os.mkdir(\"weights/small_dataset\")\n",
    "            torch.save({\n",
    "                    'epoch': step,\n",
    "                    'model_state_dict': model.state_dict(),\n",
    "                    'loss': loss,\n",
    "                    }, f\"weights/{np.mean(losses[-50:]):5f}.weights\")\n",
    "    \n",
    "    plt.plot(losses)\n",
    "    \n",
    "    # check the final performance\n",
    "    print(np.mean(losses[-50:]))"
   ]
  },
  {
   "cell_type": "code",
   "execution_count": 166,
   "id": "d4041d85",
   "metadata": {},
   "outputs": [
    {
     "data": {
      "text/plain": [
       "[<matplotlib.lines.Line2D at 0x7f6eb88f8df0>]"
      ]
     },
     "execution_count": 166,
     "metadata": {},
     "output_type": "execute_result"
    },
    {
     "data": {
      "image/png": "[encoded data removed]",
      "text/plain": [
       "<Figure size 640x480 with 1 Axes>"
      ]
     },
     "metadata": {},
     "output_type": "display_data"
    }
   ],
   "source": [
    "rolling_length = 50\n",
    "\n",
    "losses_mov_avg = (\n",
    "    np.convolve(\n",
    "        np.array(losses),\n",
    "        np.ones(rolling_length),\n",
    "        mode=\"valid\",\n",
    "    )\n",
    "    / rolling_length\n",
    ")\n",
    "\n",
    "plt.title(\"Crossentropy loss moving average\")\n",
    "plt.plot(losses_mov_avg)"
   ]
  },
  {
   "cell_type": "code",
   "execution_count": 175,
   "id": "cf065d0a",
   "metadata": {},
   "outputs": [],
   "source": [
    "def prompt_model(model, prompt=None, max_new_tokens=200, topk=3):\n",
    "    model.eval();\n",
    "    \n",
    "    # pad the prompt so that it has at least the length of block_size\n",
    "    # and so that the model is guided into giving an answer\n",
    "    pre_padding = \"Ultimately, what we need to remember is that every person has a unique perspective and experiences that shape their opinions and actions. We must strive to approach each conversation with empathy and understanding, and be willing to listen and learn from one another. Only then can we truly progress and create a better world for ourselves and future generations.\\n Unfortunately we only have time for one final question. There is one thing that I have to ask you. \\n\"\n",
    "    post_padding = \"\\nThat's such an interesting question. I think that \"\n",
    "    \n",
    "    if prompt is None or prompt == \"\":\n",
    "        # give zero context\n",
    "        prompt = \"What's the meaning of life?\"\n",
    "    \n",
    "    context = pre_padding + prompt + post_padding\n",
    "    \n",
    "    # convert prompt to a batched tensor\n",
    "    context_tensor = encode(context)\n",
    "    context_tensor = torch.unsqueeze(context_tensor, 0)\n",
    "    \n",
    "    output = model.generate_to_text(context_tensor, max_new_tokens, topk)\n",
    "    answer = output[-(max_new_tokens+13):]\n",
    "    return answer"
   ]
  },
  {
   "cell_type": "code",
   "execution_count": 174,
   "id": "a6fad316",
   "metadata": {},
   "outputs": [
    {
     "name": "stdout",
     "output_type": "stream",
     "text": [
      "I think that the sort that.\n",
      " But know?\n",
      " And there's a lot one the because the but the comple to the of the somether and of comple\n",
      " of of the because a look, the so the blange,\n",
      " but I don't some the sort of an and that the be there any had the to,\n",
      " but I'm unders to don't there there to the some of the sorther.\n",
      " And that the some that the bractive,\n",
      " but that.\n",
      " But the because actory the be the because this to that start of the some the call the of the\n",
      " and there's they're going the be exconce,\n",
      " the same that the some to through an that and of it\n",
      " of they're good, when the ARLOL the good the bedher a conver of of a conver the be of the see\n",
      " of they're good on That think to, I don't going of,\n",
      " the can the say, they like,\n",
      " they they world, you can toper one of the becople\n",
      " freed that the sorld?\n",
      " Yeah, they\n"
     ]
    }
   ],
   "source": [
    "prompt = \"What do you think about language models?\"\n",
    "answer = prompt_model(model, prompt, max_new_tokens=800, topk=2)\n",
    "print(answer)"
   ]
  },
  {
   "cell_type": "code",
   "execution_count": null,
   "id": "0a4d4d59",
   "metadata": {},
   "outputs": [],
   "source": [
    "I think that the sort that.\n",
    " But know?\n",
    " And there's a lot one the because the but the comple to the of the somether and of comple\n",
    " of of the because a look, the so the blange,\n",
    " but I don't some the sort of an and that the be there any had the to,\n",
    " but I'm unders to don't there there to the some of the sorther.\n",
    " And that the some that the bractive,\n",
    " but that.\n"
   ]
  },
  {
   "cell_type": "markdown",
   "id": "30153611",
   "metadata": {},
   "source": [
    "### Parameter count and losses for different models"
   ]
  },
  {
   "cell_type": "code",
   "execution_count": 109,
   "id": "86d86645",
   "metadata": {},
   "outputs": [],
   "source": [
    "# report the parameters and loss with 5k training steps:\n",
    "\n",
    "# --- tiny dataset (10k tokens) ---\n",
    "# bigram model: 3844 ==> loss to 2.5\n",
    "# with one multihead attention (5 heads): 53262 ==> loss to 0.35\n",
    "# with one multihead attention (5 heads) and residual connection: 53262 ==> loss to 0.30\n",
    "# with one full block: 134162 ==> loss to 0.24\n",
    "# with 5 blocks: 617762 ==> loss to 0.12\n",
    "\n",
    "# --- large dataset (38M tokens)--- \n",
    "# bigger model: 5 015 318 (5M) ==> loss to 0.0116\n",
    "# large model: 75 892 886 (75M) ==> loss to 0.007419 (4.5h training = 15k steps)"
   ]
  },
  {
   "cell_type": "code",
   "execution_count": null,
   "id": "6c5eda91",
   "metadata": {},
   "outputs": [],
   "source": []
  }
 ],
 "metadata": {
  "kernelspec": {
   "display_name": "Python 3 (ipykernel)",
   "language": "python",
   "name": "python3"
  },
  "language_info": {
   "codemirror_mode": {
    "name": "ipython",
    "version": 3
   },
   "file_extension": ".py",
   "mimetype": "text/x-python",
   "name": "python",
   "nbconvert_exporter": "python",
   "pygments_lexer": "ipython3",
   "version": "3.10.4"
  }
 },
 "nbformat": 4,
 "nbformat_minor": 5
}
